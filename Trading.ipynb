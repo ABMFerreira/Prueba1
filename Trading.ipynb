{
 "cells": [
  {
   "cell_type": "code",
   "execution_count": 23,
   "metadata": {},
   "outputs": [],
   "source": [
    "#!pip install --user fundamentus"
   ]
  },
  {
   "cell_type": "code",
   "execution_count": 24,
   "metadata": {
    "scrolled": true
   },
   "outputs": [],
   "source": [
    "#!pip install urllib3==1.25.8 --user"
   ]
  },
  {
   "cell_type": "code",
   "execution_count": 1,
   "metadata": {},
   "outputs": [],
   "source": [
    "# HELLO WORLD FROM HOME"
   ]
  },
  {
   "cell_type": "code",
   "execution_count": 11,
   "metadata": {},
   "outputs": [
    {
     "name": "stdout",
     "output_type": "stream",
     "text": [
      "Collecting openpyxl==3.0.0\n",
      "  Downloading https://files.pythonhosted.org/packages/6f/af/88ff9eef0b8f665aee1111ac6cede5ad12190c5bd726242bd2b26fc21b32/openpyxl-3.0.0.tar.gz (172kB)\n",
      "Requirement already satisfied: jdcal in c:\\program files (x86)\\anaconda3\\lib\\site-packages (from openpyxl==3.0.0) (1.4.1)\n",
      "Requirement already satisfied: et_xmlfile in c:\\program files (x86)\\anaconda3\\lib\\site-packages (from openpyxl==3.0.0) (1.0.1)\n",
      "Building wheels for collected packages: openpyxl\n",
      "  Building wheel for openpyxl (setup.py): started\n",
      "  Building wheel for openpyxl (setup.py): finished with status 'done'\n",
      "  Stored in directory: C:\\Users\\a.bandeira.de.mello\\AppData\\Local\\pip\\Cache\\wheels\\34\\ee\\6c\\1279f7b70ea72432c2cef15dd3d915477cb3771d1618f6b8ef\n",
      "Successfully built openpyxl\n",
      "Installing collected packages: openpyxl\n",
      "Successfully installed openpyxl-3.0.0\n"
     ]
    }
   ],
   "source": [
    "!pip install --user openpyxl==3.0.0"
   ]
  },
  {
   "cell_type": "code",
   "execution_count": 1,
   "metadata": {},
   "outputs": [
    {
     "name": "stderr",
     "output_type": "stream",
     "text": [
      "C:\\Users\\a.bandeira.de.mello\\AppData\\Roaming\\Python\\Python37\\site-packages\\pandas\\compat\\_optional.py:138: UserWarning: Pandas requires version '2.7.0' or newer of 'numexpr' (version '2.6.9' currently installed).\n",
      "  warnings.warn(msg, UserWarning)\n",
      "2023-03-10 16:28:08,569 [logging.log_init] INFO: LOGLEVEL=INFO\n"
     ]
    }
   ],
   "source": [
    "import fundamentus\n",
    "import pandas as pd\n",
    "import matplotlib.pyplot as plt\n",
    "import os\n",
    "from datetime import date, datetime\n",
    "from openpyxl import load_workbook\n",
    "\n",
    "cwd = os.getcwd()"
   ]
  },
  {
   "cell_type": "code",
   "execution_count": 2,
   "metadata": {},
   "outputs": [],
   "source": [
    "tickers = pd.read_excel(\"Tickers BOVA 22.xlsx\")"
   ]
  },
  {
   "cell_type": "code",
   "execution_count": 3,
   "metadata": {},
   "outputs": [
    {
     "data": {
      "text/plain": [
       "0     RRRP3\n",
       "1     ALPA4\n",
       "2     ABEV3\n",
       "3     AMER3\n",
       "4     ASAI3\n",
       "      ...  \n",
       "85    VALE3\n",
       "86    VIIA3\n",
       "87    VBBR3\n",
       "88    WEGE3\n",
       "89    YDUQ3\n",
       "Name: Código, Length: 90, dtype: object"
      ]
     },
     "execution_count": 3,
     "metadata": {},
     "output_type": "execute_result"
    }
   ],
   "source": [
    "tick = tickers.Código\n",
    "tick"
   ]
  },
  {
   "cell_type": "code",
   "execution_count": 4,
   "metadata": {},
   "outputs": [],
   "source": [
    "df = fundamentus.get_resultado()"
   ]
  },
  {
   "cell_type": "code",
   "execution_count": 5,
   "metadata": {},
   "outputs": [
    {
     "data": {
      "text/plain": [
       "Index(['cotacao', 'pl', 'pvp', 'psr', 'dy', 'pa', 'pcg', 'pebit', 'pacl',\n",
       "       'evebit', 'evebitda', 'mrgebit', 'mrgliq', 'roic', 'roe', 'liqc',\n",
       "       'liq2m', 'patrliq', 'divbpatr', 'c5y'],\n",
       "      dtype='object', name='Multiples')"
      ]
     },
     "execution_count": 5,
     "metadata": {},
     "output_type": "execute_result"
    }
   ],
   "source": [
    "df.columns"
   ]
  },
  {
   "cell_type": "code",
   "execution_count": 6,
   "metadata": {},
   "outputs": [
    {
     "data": {
      "text/plain": [
       "'\\n# Filtrando somente os tickers ativos em 2022\\n\\ndf_22 = df.copy(deep=True)\\ndf_22.reset_index(inplace =True)\\ndf_22 = df_22[df_22[\"papel\"].isin(tick)]\\ndf_22\\n'"
      ]
     },
     "execution_count": 6,
     "metadata": {},
     "output_type": "execute_result"
    }
   ],
   "source": [
    "'''\n",
    "# Filtrando somente os tickers ativos em 2022\n",
    "\n",
    "df_22 = df.copy(deep=True)\n",
    "df_22.reset_index(inplace =True)\n",
    "df_22 = df_22[df_22[\"papel\"].isin(tick)]\n",
    "df_22\n",
    "'''"
   ]
  },
  {
   "cell_type": "code",
   "execution_count": 7,
   "metadata": {},
   "outputs": [
    {
     "data": {
      "text/html": [
       "<div>\n",
       "<style scoped>\n",
       "    .dataframe tbody tr th:only-of-type {\n",
       "        vertical-align: middle;\n",
       "    }\n",
       "\n",
       "    .dataframe tbody tr th {\n",
       "        vertical-align: top;\n",
       "    }\n",
       "\n",
       "    .dataframe thead th {\n",
       "        text-align: right;\n",
       "    }\n",
       "</style>\n",
       "<table border=\"1\" class=\"dataframe\">\n",
       "  <thead>\n",
       "    <tr style=\"text-align: right;\">\n",
       "      <th>Multiples</th>\n",
       "      <th>dia</th>\n",
       "      <th>hora</th>\n",
       "      <th>papel</th>\n",
       "      <th>cotacao</th>\n",
       "      <th>pl</th>\n",
       "      <th>pvp</th>\n",
       "      <th>psr</th>\n",
       "      <th>dy</th>\n",
       "      <th>pa</th>\n",
       "      <th>pcg</th>\n",
       "      <th>...</th>\n",
       "      <th>evebitda</th>\n",
       "      <th>mrgebit</th>\n",
       "      <th>mrgliq</th>\n",
       "      <th>roic</th>\n",
       "      <th>roe</th>\n",
       "      <th>liqc</th>\n",
       "      <th>liq2m</th>\n",
       "      <th>patrliq</th>\n",
       "      <th>divbpatr</th>\n",
       "      <th>c5y</th>\n",
       "    </tr>\n",
       "  </thead>\n",
       "  <tbody>\n",
       "    <tr>\n",
       "      <th>308</th>\n",
       "      <td>2023-03-10</td>\n",
       "      <td>16:28:13</td>\n",
       "      <td>DESK3</td>\n",
       "      <td>8.71</td>\n",
       "      <td>16.39</td>\n",
       "      <td>0.83</td>\n",
       "      <td>1.194</td>\n",
       "      <td>5.0925</td>\n",
       "      <td>0.314</td>\n",
       "      <td>9.28</td>\n",
       "      <td>...</td>\n",
       "      <td>5.14</td>\n",
       "      <td>0.2494</td>\n",
       "      <td>0.0853</td>\n",
       "      <td>0.0770</td>\n",
       "      <td>0.0503</td>\n",
       "      <td>1.23</td>\n",
       "      <td>1979060.0</td>\n",
       "      <td>9.209070e+08</td>\n",
       "      <td>0.95</td>\n",
       "      <td>0.0000</td>\n",
       "    </tr>\n",
       "    <tr>\n",
       "      <th>416</th>\n",
       "      <td>2023-03-10</td>\n",
       "      <td>16:28:13</td>\n",
       "      <td>FIGE3</td>\n",
       "      <td>12.03</td>\n",
       "      <td>0.00</td>\n",
       "      <td>0.19</td>\n",
       "      <td>0.000</td>\n",
       "      <td>3.2855</td>\n",
       "      <td>0.000</td>\n",
       "      <td>0.00</td>\n",
       "      <td>...</td>\n",
       "      <td>0.00</td>\n",
       "      <td>0.0000</td>\n",
       "      <td>0.0000</td>\n",
       "      <td>0.0000</td>\n",
       "      <td>0.0000</td>\n",
       "      <td>0.00</td>\n",
       "      <td>0.0</td>\n",
       "      <td>1.486920e+08</td>\n",
       "      <td>0.00</td>\n",
       "      <td>-0.6779</td>\n",
       "    </tr>\n",
       "    <tr>\n",
       "      <th>823</th>\n",
       "      <td>2023-03-10</td>\n",
       "      <td>16:28:13</td>\n",
       "      <td>SYNE3</td>\n",
       "      <td>4.03</td>\n",
       "      <td>0.50</td>\n",
       "      <td>0.40</td>\n",
       "      <td>0.266</td>\n",
       "      <td>2.1621</td>\n",
       "      <td>0.146</td>\n",
       "      <td>1.00</td>\n",
       "      <td>...</td>\n",
       "      <td>0.78</td>\n",
       "      <td>0.6505</td>\n",
       "      <td>0.5652</td>\n",
       "      <td>0.3999</td>\n",
       "      <td>0.7934</td>\n",
       "      <td>6.61</td>\n",
       "      <td>1826880.0</td>\n",
       "      <td>1.550460e+09</td>\n",
       "      <td>0.67</td>\n",
       "      <td>0.3715</td>\n",
       "    </tr>\n",
       "    <tr>\n",
       "      <th>417</th>\n",
       "      <td>2023-03-10</td>\n",
       "      <td>16:28:13</td>\n",
       "      <td>FIGE4</td>\n",
       "      <td>38.01</td>\n",
       "      <td>0.00</td>\n",
       "      <td>0.60</td>\n",
       "      <td>0.000</td>\n",
       "      <td>1.1438</td>\n",
       "      <td>0.000</td>\n",
       "      <td>0.00</td>\n",
       "      <td>...</td>\n",
       "      <td>0.00</td>\n",
       "      <td>0.0000</td>\n",
       "      <td>0.0000</td>\n",
       "      <td>0.0000</td>\n",
       "      <td>0.0000</td>\n",
       "      <td>0.00</td>\n",
       "      <td>0.0</td>\n",
       "      <td>1.486920e+08</td>\n",
       "      <td>0.00</td>\n",
       "      <td>-0.6779</td>\n",
       "    </tr>\n",
       "    <tr>\n",
       "      <th>896</th>\n",
       "      <td>2023-03-10</td>\n",
       "      <td>16:28:13</td>\n",
       "      <td>TRPN3</td>\n",
       "      <td>0.71</td>\n",
       "      <td>0.44</td>\n",
       "      <td>0.54</td>\n",
       "      <td>0.263</td>\n",
       "      <td>1.0474</td>\n",
       "      <td>0.399</td>\n",
       "      <td>0.59</td>\n",
       "      <td>...</td>\n",
       "      <td>-0.35</td>\n",
       "      <td>0.7228</td>\n",
       "      <td>0.5929</td>\n",
       "      <td>5.2301</td>\n",
       "      <td>1.2235</td>\n",
       "      <td>3.61</td>\n",
       "      <td>0.0</td>\n",
       "      <td>5.935800e+07</td>\n",
       "      <td>0.00</td>\n",
       "      <td>0.0577</td>\n",
       "    </tr>\n",
       "    <tr>\n",
       "      <th>...</th>\n",
       "      <td>...</td>\n",
       "      <td>...</td>\n",
       "      <td>...</td>\n",
       "      <td>...</td>\n",
       "      <td>...</td>\n",
       "      <td>...</td>\n",
       "      <td>...</td>\n",
       "      <td>...</td>\n",
       "      <td>...</td>\n",
       "      <td>...</td>\n",
       "      <td>...</td>\n",
       "      <td>...</td>\n",
       "      <td>...</td>\n",
       "      <td>...</td>\n",
       "      <td>...</td>\n",
       "      <td>...</td>\n",
       "      <td>...</td>\n",
       "      <td>...</td>\n",
       "      <td>...</td>\n",
       "      <td>...</td>\n",
       "      <td>...</td>\n",
       "    </tr>\n",
       "    <tr>\n",
       "      <th>414</th>\n",
       "      <td>2023-03-10</td>\n",
       "      <td>16:28:13</td>\n",
       "      <td>FHER3</td>\n",
       "      <td>16.90</td>\n",
       "      <td>2.59</td>\n",
       "      <td>2.06</td>\n",
       "      <td>0.157</td>\n",
       "      <td>0.0000</td>\n",
       "      <td>0.297</td>\n",
       "      <td>1.08</td>\n",
       "      <td>...</td>\n",
       "      <td>2.53</td>\n",
       "      <td>0.0701</td>\n",
       "      <td>0.0608</td>\n",
       "      <td>0.1940</td>\n",
       "      <td>0.7953</td>\n",
       "      <td>1.57</td>\n",
       "      <td>3464930.0</td>\n",
       "      <td>4.420200e+08</td>\n",
       "      <td>0.50</td>\n",
       "      <td>0.1569</td>\n",
       "    </tr>\n",
       "    <tr>\n",
       "      <th>419</th>\n",
       "      <td>2023-03-10</td>\n",
       "      <td>16:28:13</td>\n",
       "      <td>FLCL3</td>\n",
       "      <td>11.50</td>\n",
       "      <td>134.20</td>\n",
       "      <td>71.08</td>\n",
       "      <td>13.094</td>\n",
       "      <td>0.0000</td>\n",
       "      <td>12.959</td>\n",
       "      <td>166.00</td>\n",
       "      <td>...</td>\n",
       "      <td>77.54</td>\n",
       "      <td>0.1737</td>\n",
       "      <td>0.0976</td>\n",
       "      <td>0.2291</td>\n",
       "      <td>0.5297</td>\n",
       "      <td>1.23</td>\n",
       "      <td>0.0</td>\n",
       "      <td>7.292000e+07</td>\n",
       "      <td>2.96</td>\n",
       "      <td>-0.2963</td>\n",
       "    </tr>\n",
       "    <tr>\n",
       "      <th>420</th>\n",
       "      <td>2023-03-10</td>\n",
       "      <td>16:28:13</td>\n",
       "      <td>FLCL5</td>\n",
       "      <td>12.50</td>\n",
       "      <td>145.87</td>\n",
       "      <td>77.26</td>\n",
       "      <td>14.232</td>\n",
       "      <td>0.0000</td>\n",
       "      <td>14.086</td>\n",
       "      <td>180.44</td>\n",
       "      <td>...</td>\n",
       "      <td>84.09</td>\n",
       "      <td>0.1737</td>\n",
       "      <td>0.0976</td>\n",
       "      <td>0.2291</td>\n",
       "      <td>0.5297</td>\n",
       "      <td>1.23</td>\n",
       "      <td>0.0</td>\n",
       "      <td>7.292000e+07</td>\n",
       "      <td>2.96</td>\n",
       "      <td>-0.2963</td>\n",
       "    </tr>\n",
       "    <tr>\n",
       "      <th>421</th>\n",
       "      <td>2023-03-10</td>\n",
       "      <td>16:28:13</td>\n",
       "      <td>FLCL6</td>\n",
       "      <td>9.91</td>\n",
       "      <td>115.65</td>\n",
       "      <td>61.25</td>\n",
       "      <td>11.283</td>\n",
       "      <td>0.0000</td>\n",
       "      <td>11.168</td>\n",
       "      <td>143.05</td>\n",
       "      <td>...</td>\n",
       "      <td>67.11</td>\n",
       "      <td>0.1737</td>\n",
       "      <td>0.0976</td>\n",
       "      <td>0.2291</td>\n",
       "      <td>0.5297</td>\n",
       "      <td>1.23</td>\n",
       "      <td>0.0</td>\n",
       "      <td>7.292000e+07</td>\n",
       "      <td>2.96</td>\n",
       "      <td>-0.2963</td>\n",
       "    </tr>\n",
       "    <tr>\n",
       "      <th>968</th>\n",
       "      <td>2023-03-10</td>\n",
       "      <td>16:28:13</td>\n",
       "      <td>ZAMP3</td>\n",
       "      <td>4.59</td>\n",
       "      <td>-17.04</td>\n",
       "      <td>0.87</td>\n",
       "      <td>0.360</td>\n",
       "      <td>0.0000</td>\n",
       "      <td>0.316</td>\n",
       "      <td>8.61</td>\n",
       "      <td>...</td>\n",
       "      <td>3.74</td>\n",
       "      <td>0.0211</td>\n",
       "      <td>-0.0211</td>\n",
       "      <td>0.0230</td>\n",
       "      <td>-0.0509</td>\n",
       "      <td>1.17</td>\n",
       "      <td>8962040.0</td>\n",
       "      <td>1.456990e+09</td>\n",
       "      <td>0.74</td>\n",
       "      <td>0.0956</td>\n",
       "    </tr>\n",
       "  </tbody>\n",
       "</table>\n",
       "<p>940 rows × 23 columns</p>\n",
       "</div>"
      ],
      "text/plain": [
       "Multiples         dia      hora  papel  cotacao      pl    pvp     psr  \\\n",
       "308        2023-03-10  16:28:13  DESK3     8.71   16.39   0.83   1.194   \n",
       "416        2023-03-10  16:28:13  FIGE3    12.03    0.00   0.19   0.000   \n",
       "823        2023-03-10  16:28:13  SYNE3     4.03    0.50   0.40   0.266   \n",
       "417        2023-03-10  16:28:13  FIGE4    38.01    0.00   0.60   0.000   \n",
       "896        2023-03-10  16:28:13  TRPN3     0.71    0.44   0.54   0.263   \n",
       "..                ...       ...    ...      ...     ...    ...     ...   \n",
       "414        2023-03-10  16:28:13  FHER3    16.90    2.59   2.06   0.157   \n",
       "419        2023-03-10  16:28:13  FLCL3    11.50  134.20  71.08  13.094   \n",
       "420        2023-03-10  16:28:13  FLCL5    12.50  145.87  77.26  14.232   \n",
       "421        2023-03-10  16:28:13  FLCL6     9.91  115.65  61.25  11.283   \n",
       "968        2023-03-10  16:28:13  ZAMP3     4.59  -17.04   0.87   0.360   \n",
       "\n",
       "Multiples      dy      pa     pcg  ...  evebitda  mrgebit  mrgliq    roic  \\\n",
       "308        5.0925   0.314    9.28  ...      5.14   0.2494  0.0853  0.0770   \n",
       "416        3.2855   0.000    0.00  ...      0.00   0.0000  0.0000  0.0000   \n",
       "823        2.1621   0.146    1.00  ...      0.78   0.6505  0.5652  0.3999   \n",
       "417        1.1438   0.000    0.00  ...      0.00   0.0000  0.0000  0.0000   \n",
       "896        1.0474   0.399    0.59  ...     -0.35   0.7228  0.5929  5.2301   \n",
       "..            ...     ...     ...  ...       ...      ...     ...     ...   \n",
       "414        0.0000   0.297    1.08  ...      2.53   0.0701  0.0608  0.1940   \n",
       "419        0.0000  12.959  166.00  ...     77.54   0.1737  0.0976  0.2291   \n",
       "420        0.0000  14.086  180.44  ...     84.09   0.1737  0.0976  0.2291   \n",
       "421        0.0000  11.168  143.05  ...     67.11   0.1737  0.0976  0.2291   \n",
       "968        0.0000   0.316    8.61  ...      3.74   0.0211 -0.0211  0.0230   \n",
       "\n",
       "Multiples     roe  liqc      liq2m       patrliq  divbpatr     c5y  \n",
       "308        0.0503  1.23  1979060.0  9.209070e+08      0.95  0.0000  \n",
       "416        0.0000  0.00        0.0  1.486920e+08      0.00 -0.6779  \n",
       "823        0.7934  6.61  1826880.0  1.550460e+09      0.67  0.3715  \n",
       "417        0.0000  0.00        0.0  1.486920e+08      0.00 -0.6779  \n",
       "896        1.2235  3.61        0.0  5.935800e+07      0.00  0.0577  \n",
       "..            ...   ...        ...           ...       ...     ...  \n",
       "414        0.7953  1.57  3464930.0  4.420200e+08      0.50  0.1569  \n",
       "419        0.5297  1.23        0.0  7.292000e+07      2.96 -0.2963  \n",
       "420        0.5297  1.23        0.0  7.292000e+07      2.96 -0.2963  \n",
       "421        0.5297  1.23        0.0  7.292000e+07      2.96 -0.2963  \n",
       "968       -0.0509  1.17  8962040.0  1.456990e+09      0.74  0.0956  \n",
       "\n",
       "[940 rows x 23 columns]"
      ]
     },
     "execution_count": 7,
     "metadata": {},
     "output_type": "execute_result"
    }
   ],
   "source": [
    "# Filtrando somente os tickers com cotação acima de 0\n",
    "\n",
    "df_valido = df.copy(deep=True)\n",
    "df_valido.reset_index(inplace =True)\n",
    "df_valido = df_valido[df_valido[\"cotacao\"] > 0]\n",
    "\n",
    "# Adicionando campo de data atual e passando para o início\n",
    "\n",
    "day = date.today()\n",
    "time = datetime.now().strftime(\"%H:%M:%S\")\n",
    "\n",
    "df_valido[\"dia\"] = day\n",
    "df_valido[\"hora\"] = time\n",
    "\n",
    "# Passando colunas de dia e hora para o inicio\n",
    "first_column = df_valido.pop('dia')\n",
    "second_column = df_valido.pop('hora')\n",
    "\n",
    "df_valido.insert(0, 'dia', first_column) # insert column using insert(position,column_name,first_column) function\n",
    "df_valido.insert(1, 'hora', second_column)\n",
    "\n",
    "df_valido.sort_values('dy', ascending = False, inplace=True)\n",
    "\n",
    "df_valido"
   ]
  },
  {
   "cell_type": "markdown",
   "metadata": {},
   "source": [
    "### FILTROS"
   ]
  },
  {
   "cell_type": "code",
   "execution_count": 8,
   "metadata": {},
   "outputs": [],
   "source": [
    "# FILTRO1: P/L > zero & Margem EBIT > 40%\n",
    "\n",
    "filtro1 = df_valido[ (df_valido.pl > 0) & (df_valido.mrgebit > 0.4)]\n",
    "\n",
    "# FILTRO2: P/L > zero & Margem EBIT > 40% & Divided Yield > 0.1\n",
    "\n",
    "filtro2 = df_valido[ (df_valido.pl > 0) & (df_valido.mrgebit > 0.4) & (df_valido.dy > 0.1)]\n",
    "\n",
    "# FILTRO3: P/L > zero & ROE > 0.4\n",
    "\n",
    "filtro3 = df_valido[ (df_valido.pl > 0) & (df_valido.roe > 0.4)]"
   ]
  },
  {
   "cell_type": "code",
   "execution_count": 9,
   "metadata": {},
   "outputs": [
    {
     "name": "stderr",
     "output_type": "stream",
     "text": [
      "C:\\Users\\a.bandeira.de.mello\\AppData\\Roaming\\Python\\Python37\\site-packages\\pandas\\util\\_decorators.py:311: SettingWithCopyWarning: \n",
      "A value is trying to be set on a copy of a slice from a DataFrame\n",
      "\n",
      "See the caveats in the documentation: https://pandas.pydata.org/pandas-docs/stable/user_guide/indexing.html#returning-a-view-versus-a-copy\n",
      "  return func(*args, **kwargs)\n"
     ]
    }
   ],
   "source": [
    "filtro1.sort_values('dy', ascending = False, inplace = True)\n",
    "filtro2.sort_values('dy', ascending = False, inplace = True)\n",
    "filtro3.sort_values('roe', ascending = False, inplace = True)"
   ]
  },
  {
   "cell_type": "code",
   "execution_count": 10,
   "metadata": {},
   "outputs": [
    {
     "data": {
      "text/plain": [
       "Text(0.5, 1.0, 'Açoes com P/L maior que 0 e Margem Ebit maior que 0.4')"
      ]
     },
     "execution_count": 10,
     "metadata": {},
     "output_type": "execute_result"
    },
    {
     "data": {
      "image/png": "[encoded data removed]",
      "text/plain": [
       "<Figure size 2088x720 with 1 Axes>"
      ]
     },
     "metadata": {
      "needs_background": "light"
     },
     "output_type": "display_data"
    }
   ],
   "source": [
    "# PLOT FILTRO 1\n",
    "\n",
    "plt.figure(figsize=(29,10));\n",
    "plt.bar(filtro1.papel, filtro1.dy);\n",
    "plt.xticks(rotation= 45, fontsize = 15);\n",
    "plt.title(\"Açoes com P/L maior que 0 e Margem Ebit maior que 0.4\")"
   ]
  },
  {
   "cell_type": "code",
   "execution_count": 11,
   "metadata": {},
   "outputs": [
    {
     "data": {
      "text/html": [
       "<div>\n",
       "<style scoped>\n",
       "    .dataframe tbody tr th:only-of-type {\n",
       "        vertical-align: middle;\n",
       "    }\n",
       "\n",
       "    .dataframe tbody tr th {\n",
       "        vertical-align: top;\n",
       "    }\n",
       "\n",
       "    .dataframe thead th {\n",
       "        text-align: right;\n",
       "    }\n",
       "</style>\n",
       "<table border=\"1\" class=\"dataframe\">\n",
       "  <thead>\n",
       "    <tr style=\"text-align: right;\">\n",
       "      <th>Multiples</th>\n",
       "      <th>papel</th>\n",
       "      <th>dy</th>\n",
       "      <th>pl</th>\n",
       "      <th>mrgebit</th>\n",
       "      <th>roe</th>\n",
       "    </tr>\n",
       "  </thead>\n",
       "  <tbody>\n",
       "    <tr>\n",
       "      <th>823</th>\n",
       "      <td>SYNE3</td>\n",
       "      <td>2.1621</td>\n",
       "      <td>0.50</td>\n",
       "      <td>0.6505</td>\n",
       "      <td>0.7934</td>\n",
       "    </tr>\n",
       "    <tr>\n",
       "      <th>896</th>\n",
       "      <td>TRPN3</td>\n",
       "      <td>1.0474</td>\n",
       "      <td>0.44</td>\n",
       "      <td>0.7228</td>\n",
       "      <td>1.2235</td>\n",
       "    </tr>\n",
       "    <tr>\n",
       "      <th>663</th>\n",
       "      <td>PETR4</td>\n",
       "      <td>0.7595</td>\n",
       "      <td>1.63</td>\n",
       "      <td>0.4623</td>\n",
       "      <td>0.4738</td>\n",
       "    </tr>\n",
       "    <tr>\n",
       "      <th>662</th>\n",
       "      <td>PETR3</td>\n",
       "      <td>0.6720</td>\n",
       "      <td>1.84</td>\n",
       "      <td>0.4623</td>\n",
       "      <td>0.4738</td>\n",
       "    </tr>\n",
       "    <tr>\n",
       "      <th>202</th>\n",
       "      <td>CEBR6</td>\n",
       "      <td>0.3896</td>\n",
       "      <td>3.69</td>\n",
       "      <td>0.4596</td>\n",
       "      <td>0.2030</td>\n",
       "    </tr>\n",
       "    <tr>\n",
       "      <th>...</th>\n",
       "      <td>...</td>\n",
       "      <td>...</td>\n",
       "      <td>...</td>\n",
       "      <td>...</td>\n",
       "      <td>...</td>\n",
       "    </tr>\n",
       "    <tr>\n",
       "      <th>924</th>\n",
       "      <td>VALE5</td>\n",
       "      <td>0.0000</td>\n",
       "      <td>1.49</td>\n",
       "      <td>0.4872</td>\n",
       "      <td>0.5945</td>\n",
       "    </tr>\n",
       "    <tr>\n",
       "      <th>911</th>\n",
       "      <td>UCOP4</td>\n",
       "      <td>0.0000</td>\n",
       "      <td>18.01</td>\n",
       "      <td>0.8392</td>\n",
       "      <td>0.0723</td>\n",
       "    </tr>\n",
       "    <tr>\n",
       "      <th>695</th>\n",
       "      <td>PRIO3</td>\n",
       "      <td>0.0000</td>\n",
       "      <td>9.34</td>\n",
       "      <td>0.6061</td>\n",
       "      <td>0.3660</td>\n",
       "    </tr>\n",
       "    <tr>\n",
       "      <th>966</th>\n",
       "      <td>WSON33</td>\n",
       "      <td>0.0000</td>\n",
       "      <td>8.07</td>\n",
       "      <td>0.4414</td>\n",
       "      <td>0.1217</td>\n",
       "    </tr>\n",
       "    <tr>\n",
       "      <th>464</th>\n",
       "      <td>HBRE3</td>\n",
       "      <td>0.0000</td>\n",
       "      <td>2.70</td>\n",
       "      <td>2.6228</td>\n",
       "      <td>0.0953</td>\n",
       "    </tr>\n",
       "  </tbody>\n",
       "</table>\n",
       "<p>68 rows × 5 columns</p>\n",
       "</div>"
      ],
      "text/plain": [
       "Multiples   papel      dy     pl  mrgebit     roe\n",
       "823         SYNE3  2.1621   0.50   0.6505  0.7934\n",
       "896         TRPN3  1.0474   0.44   0.7228  1.2235\n",
       "663         PETR4  0.7595   1.63   0.4623  0.4738\n",
       "662         PETR3  0.6720   1.84   0.4623  0.4738\n",
       "202         CEBR6  0.3896   3.69   0.4596  0.2030\n",
       "..            ...     ...    ...      ...     ...\n",
       "924         VALE5  0.0000   1.49   0.4872  0.5945\n",
       "911         UCOP4  0.0000  18.01   0.8392  0.0723\n",
       "695         PRIO3  0.0000   9.34   0.6061  0.3660\n",
       "966        WSON33  0.0000   8.07   0.4414  0.1217\n",
       "464         HBRE3  0.0000   2.70   2.6228  0.0953\n",
       "\n",
       "[68 rows x 5 columns]"
      ]
     },
     "execution_count": 11,
     "metadata": {},
     "output_type": "execute_result"
    }
   ],
   "source": [
    "filtro1[[\"papel\",\"dy\", \"pl\", \"mrgebit\", \"roe\"]]"
   ]
  },
  {
   "cell_type": "code",
   "execution_count": 12,
   "metadata": {},
   "outputs": [
    {
     "data": {
      "text/plain": [
       "Text(0.5, 1.0, 'Açoes com P/L maior que 0, Margem Ebit maior que 0.4 e Dividend Yield maior que 0.1')"
      ]
     },
     "execution_count": 12,
     "metadata": {},
     "output_type": "execute_result"
    },
    {
     "data": {
      "image/png": "[encoded data removed]",
      "text/plain": [
       "<Figure size 2088x720 with 1 Axes>"
      ]
     },
     "metadata": {
      "needs_background": "light"
     },
     "output_type": "display_data"
    }
   ],
   "source": [
    "# PLOT FILTRO 2\n",
    "\n",
    "plt.figure(figsize=(29,10));\n",
    "plt.bar(filtro2.papel, filtro2.dy);\n",
    "plt.xticks(rotation= 45, fontsize = 15);\n",
    "plt.title(\"Açoes com P/L maior que 0, Margem Ebit maior que 0.4 e Dividend Yield maior que 0.1\")"
   ]
  },
  {
   "cell_type": "code",
   "execution_count": 13,
   "metadata": {},
   "outputs": [
    {
     "data": {
      "text/plain": [
       "Text(0.5, 1.0, 'Açoes com P/L maior que 0 e ROE maior que 0.4')"
      ]
     },
     "execution_count": 13,
     "metadata": {},
     "output_type": "execute_result"
    },
    {
     "data": {
      "image/png": "[encoded data removed]",
      "text/plain": [
       "<Figure size 2088x720 with 1 Axes>"
      ]
     },
     "metadata": {
      "needs_background": "light"
     },
     "output_type": "display_data"
    }
   ],
   "source": [
    "# PLOT FILTRO 3\n",
    "\n",
    "plt.figure(figsize=(29,10));\n",
    "plt.bar(filtro3.papel, filtro3.roe);\n",
    "plt.xlabel(\"Ações\", **{'fontname':'Arial', 'size':'20'});\n",
    "plt.ylabel(\"ROE\", **{'fontname':'Arial', 'size':'20'});\n",
    "plt.xticks(rotation= 45, fontsize = 15);\n",
    "plt.yticks(fontsize=20);\n",
    "plt.title(\"Açoes com P/L maior que 0 e ROE maior que 0.4\")"
   ]
  },
  {
   "cell_type": "code",
   "execution_count": 14,
   "metadata": {},
   "outputs": [
    {
     "name": "stderr",
     "output_type": "stream",
     "text": [
      "C:\\Users\\a.bandeira.de.mello\\AppData\\Roaming\\Python\\Python37\\site-packages\\pandas\\util\\_decorators.py:311: SettingWithCopyWarning: \n",
      "A value is trying to be set on a copy of a slice from a DataFrame\n",
      "\n",
      "See the caveats in the documentation: https://pandas.pydata.org/pandas-docs/stable/user_guide/indexing.html#returning-a-view-versus-a-copy\n",
      "  return func(*args, **kwargs)\n"
     ]
    }
   ],
   "source": [
    "# FILTRO IDEAL: \n",
    "# 1. P/L > 0 \n",
    "# 2. ROE > 15%\n",
    "# 3. Margem EBIT > 40%\n",
    "# 4. Divided Yield > 10%\n",
    "\n",
    "filtro_ideal = df_valido[ (df_valido.pl > 0) & (df_valido.roe > 0.2) & (df_valido.mrgebit > 0.4) & (df_valido.dy > 0.1)]\n",
    "filtro_ideal.sort_values('dy', ascending = False, inplace = True)"
   ]
  },
  {
   "cell_type": "code",
   "execution_count": 15,
   "metadata": {},
   "outputs": [
    {
     "data": {
      "text/html": [
       "<div>\n",
       "<style scoped>\n",
       "    .dataframe tbody tr th:only-of-type {\n",
       "        vertical-align: middle;\n",
       "    }\n",
       "\n",
       "    .dataframe tbody tr th {\n",
       "        vertical-align: top;\n",
       "    }\n",
       "\n",
       "    .dataframe thead th {\n",
       "        text-align: right;\n",
       "    }\n",
       "</style>\n",
       "<table border=\"1\" class=\"dataframe\">\n",
       "  <thead>\n",
       "    <tr style=\"text-align: right;\">\n",
       "      <th>Multiples</th>\n",
       "      <th>dia</th>\n",
       "      <th>hora</th>\n",
       "      <th>papel</th>\n",
       "      <th>cotacao</th>\n",
       "      <th>pl</th>\n",
       "      <th>pvp</th>\n",
       "      <th>psr</th>\n",
       "      <th>dy</th>\n",
       "      <th>pa</th>\n",
       "      <th>pcg</th>\n",
       "      <th>...</th>\n",
       "      <th>evebitda</th>\n",
       "      <th>mrgebit</th>\n",
       "      <th>mrgliq</th>\n",
       "      <th>roic</th>\n",
       "      <th>roe</th>\n",
       "      <th>liqc</th>\n",
       "      <th>liq2m</th>\n",
       "      <th>patrliq</th>\n",
       "      <th>divbpatr</th>\n",
       "      <th>c5y</th>\n",
       "    </tr>\n",
       "  </thead>\n",
       "  <tbody>\n",
       "    <tr>\n",
       "      <th>823</th>\n",
       "      <td>2023-03-10</td>\n",
       "      <td>16:28:13</td>\n",
       "      <td>SYNE3</td>\n",
       "      <td>4.03</td>\n",
       "      <td>0.50</td>\n",
       "      <td>0.40</td>\n",
       "      <td>0.266</td>\n",
       "      <td>2.1621</td>\n",
       "      <td>0.146</td>\n",
       "      <td>1.00</td>\n",
       "      <td>...</td>\n",
       "      <td>0.78</td>\n",
       "      <td>0.6505</td>\n",
       "      <td>0.5652</td>\n",
       "      <td>0.3999</td>\n",
       "      <td>0.7934</td>\n",
       "      <td>6.61</td>\n",
       "      <td>1.826880e+06</td>\n",
       "      <td>1.550460e+09</td>\n",
       "      <td>0.67</td>\n",
       "      <td>0.3715</td>\n",
       "    </tr>\n",
       "    <tr>\n",
       "      <th>896</th>\n",
       "      <td>2023-03-10</td>\n",
       "      <td>16:28:13</td>\n",
       "      <td>TRPN3</td>\n",
       "      <td>0.71</td>\n",
       "      <td>0.44</td>\n",
       "      <td>0.54</td>\n",
       "      <td>0.263</td>\n",
       "      <td>1.0474</td>\n",
       "      <td>0.399</td>\n",
       "      <td>0.59</td>\n",
       "      <td>...</td>\n",
       "      <td>-0.35</td>\n",
       "      <td>0.7228</td>\n",
       "      <td>0.5929</td>\n",
       "      <td>5.2301</td>\n",
       "      <td>1.2235</td>\n",
       "      <td>3.61</td>\n",
       "      <td>0.000000e+00</td>\n",
       "      <td>5.935800e+07</td>\n",
       "      <td>0.00</td>\n",
       "      <td>0.0577</td>\n",
       "    </tr>\n",
       "    <tr>\n",
       "      <th>663</th>\n",
       "      <td>2023-03-10</td>\n",
       "      <td>16:28:13</td>\n",
       "      <td>PETR4</td>\n",
       "      <td>22.04</td>\n",
       "      <td>1.63</td>\n",
       "      <td>0.77</td>\n",
       "      <td>0.466</td>\n",
       "      <td>0.7595</td>\n",
       "      <td>0.303</td>\n",
       "      <td>12.22</td>\n",
       "      <td>...</td>\n",
       "      <td>1.51</td>\n",
       "      <td>0.4623</td>\n",
       "      <td>0.2873</td>\n",
       "      <td>0.3230</td>\n",
       "      <td>0.4738</td>\n",
       "      <td>1.17</td>\n",
       "      <td>3.211460e+09</td>\n",
       "      <td>3.724980e+11</td>\n",
       "      <td>0.79</td>\n",
       "      <td>0.1536</td>\n",
       "    </tr>\n",
       "    <tr>\n",
       "      <th>662</th>\n",
       "      <td>2023-03-10</td>\n",
       "      <td>16:28:13</td>\n",
       "      <td>PETR3</td>\n",
       "      <td>24.91</td>\n",
       "      <td>1.84</td>\n",
       "      <td>0.87</td>\n",
       "      <td>0.527</td>\n",
       "      <td>0.6720</td>\n",
       "      <td>0.343</td>\n",
       "      <td>13.82</td>\n",
       "      <td>...</td>\n",
       "      <td>1.62</td>\n",
       "      <td>0.4623</td>\n",
       "      <td>0.2873</td>\n",
       "      <td>0.3230</td>\n",
       "      <td>0.4738</td>\n",
       "      <td>1.17</td>\n",
       "      <td>7.977180e+08</td>\n",
       "      <td>3.724980e+11</td>\n",
       "      <td>0.79</td>\n",
       "      <td>0.1536</td>\n",
       "    </tr>\n",
       "    <tr>\n",
       "      <th>202</th>\n",
       "      <td>2023-03-10</td>\n",
       "      <td>16:28:13</td>\n",
       "      <td>CEBR6</td>\n",
       "      <td>10.00</td>\n",
       "      <td>3.69</td>\n",
       "      <td>0.75</td>\n",
       "      <td>1.823</td>\n",
       "      <td>0.3896</td>\n",
       "      <td>0.534</td>\n",
       "      <td>1.21</td>\n",
       "      <td>...</td>\n",
       "      <td>1.07</td>\n",
       "      <td>0.4596</td>\n",
       "      <td>0.6868</td>\n",
       "      <td>0.2221</td>\n",
       "      <td>0.2030</td>\n",
       "      <td>6.90</td>\n",
       "      <td>1.645950e+05</td>\n",
       "      <td>9.625560e+08</td>\n",
       "      <td>0.00</td>\n",
       "      <td>-0.4332</td>\n",
       "    </tr>\n",
       "    <tr>\n",
       "      <th>200</th>\n",
       "      <td>2023-03-10</td>\n",
       "      <td>16:28:13</td>\n",
       "      <td>CEBR3</td>\n",
       "      <td>10.02</td>\n",
       "      <td>3.70</td>\n",
       "      <td>0.75</td>\n",
       "      <td>1.827</td>\n",
       "      <td>0.3535</td>\n",
       "      <td>0.535</td>\n",
       "      <td>1.21</td>\n",
       "      <td>...</td>\n",
       "      <td>1.08</td>\n",
       "      <td>0.4596</td>\n",
       "      <td>0.6868</td>\n",
       "      <td>0.2221</td>\n",
       "      <td>0.2030</td>\n",
       "      <td>6.90</td>\n",
       "      <td>6.968290e+04</td>\n",
       "      <td>9.625560e+08</td>\n",
       "      <td>0.00</td>\n",
       "      <td>-0.4332</td>\n",
       "    </tr>\n",
       "    <tr>\n",
       "      <th>201</th>\n",
       "      <td>2023-03-10</td>\n",
       "      <td>16:28:13</td>\n",
       "      <td>CEBR5</td>\n",
       "      <td>10.20</td>\n",
       "      <td>3.76</td>\n",
       "      <td>0.76</td>\n",
       "      <td>1.860</td>\n",
       "      <td>0.3472</td>\n",
       "      <td>0.545</td>\n",
       "      <td>1.24</td>\n",
       "      <td>...</td>\n",
       "      <td>1.14</td>\n",
       "      <td>0.4596</td>\n",
       "      <td>0.6868</td>\n",
       "      <td>0.2221</td>\n",
       "      <td>0.2030</td>\n",
       "      <td>6.90</td>\n",
       "      <td>6.310960e+04</td>\n",
       "      <td>9.625560e+08</td>\n",
       "      <td>0.00</td>\n",
       "      <td>-0.4332</td>\n",
       "    </tr>\n",
       "    <tr>\n",
       "      <th>827</th>\n",
       "      <td>2023-03-10</td>\n",
       "      <td>16:28:13</td>\n",
       "      <td>TAEE4</td>\n",
       "      <td>11.15</td>\n",
       "      <td>6.23</td>\n",
       "      <td>1.66</td>\n",
       "      <td>4.080</td>\n",
       "      <td>0.1451</td>\n",
       "      <td>0.645</td>\n",
       "      <td>4.36</td>\n",
       "      <td>...</td>\n",
       "      <td>8.20</td>\n",
       "      <td>0.7869</td>\n",
       "      <td>0.6549</td>\n",
       "      <td>0.1372</td>\n",
       "      <td>0.2661</td>\n",
       "      <td>3.71</td>\n",
       "      <td>4.556510e+06</td>\n",
       "      <td>6.950930e+09</td>\n",
       "      <td>1.22</td>\n",
       "      <td>0.2298</td>\n",
       "    </tr>\n",
       "    <tr>\n",
       "      <th>826</th>\n",
       "      <td>2023-03-10</td>\n",
       "      <td>16:28:13</td>\n",
       "      <td>TAEE3</td>\n",
       "      <td>11.18</td>\n",
       "      <td>6.25</td>\n",
       "      <td>1.66</td>\n",
       "      <td>4.091</td>\n",
       "      <td>0.1447</td>\n",
       "      <td>0.647</td>\n",
       "      <td>4.37</td>\n",
       "      <td>...</td>\n",
       "      <td>8.21</td>\n",
       "      <td>0.7869</td>\n",
       "      <td>0.6549</td>\n",
       "      <td>0.1372</td>\n",
       "      <td>0.2661</td>\n",
       "      <td>3.71</td>\n",
       "      <td>2.552010e+06</td>\n",
       "      <td>6.950930e+09</td>\n",
       "      <td>1.22</td>\n",
       "      <td>0.2298</td>\n",
       "    </tr>\n",
       "    <tr>\n",
       "      <th>825</th>\n",
       "      <td>2023-03-10</td>\n",
       "      <td>16:28:13</td>\n",
       "      <td>TAEE11</td>\n",
       "      <td>33.57</td>\n",
       "      <td>6.25</td>\n",
       "      <td>1.66</td>\n",
       "      <td>4.095</td>\n",
       "      <td>0.1446</td>\n",
       "      <td>0.648</td>\n",
       "      <td>4.37</td>\n",
       "      <td>...</td>\n",
       "      <td>8.22</td>\n",
       "      <td>0.7869</td>\n",
       "      <td>0.6549</td>\n",
       "      <td>0.1372</td>\n",
       "      <td>0.2661</td>\n",
       "      <td>3.71</td>\n",
       "      <td>1.146850e+08</td>\n",
       "      <td>6.950930e+09</td>\n",
       "      <td>1.22</td>\n",
       "      <td>0.2298</td>\n",
       "    </tr>\n",
       "  </tbody>\n",
       "</table>\n",
       "<p>10 rows × 23 columns</p>\n",
       "</div>"
      ],
      "text/plain": [
       "Multiples         dia      hora   papel  cotacao    pl   pvp    psr      dy  \\\n",
       "823        2023-03-10  16:28:13   SYNE3     4.03  0.50  0.40  0.266  2.1621   \n",
       "896        2023-03-10  16:28:13   TRPN3     0.71  0.44  0.54  0.263  1.0474   \n",
       "663        2023-03-10  16:28:13   PETR4    22.04  1.63  0.77  0.466  0.7595   \n",
       "662        2023-03-10  16:28:13   PETR3    24.91  1.84  0.87  0.527  0.6720   \n",
       "202        2023-03-10  16:28:13   CEBR6    10.00  3.69  0.75  1.823  0.3896   \n",
       "200        2023-03-10  16:28:13   CEBR3    10.02  3.70  0.75  1.827  0.3535   \n",
       "201        2023-03-10  16:28:13   CEBR5    10.20  3.76  0.76  1.860  0.3472   \n",
       "827        2023-03-10  16:28:13   TAEE4    11.15  6.23  1.66  4.080  0.1451   \n",
       "826        2023-03-10  16:28:13   TAEE3    11.18  6.25  1.66  4.091  0.1447   \n",
       "825        2023-03-10  16:28:13  TAEE11    33.57  6.25  1.66  4.095  0.1446   \n",
       "\n",
       "Multiples     pa    pcg  ...  evebitda  mrgebit  mrgliq    roic     roe  liqc  \\\n",
       "823        0.146   1.00  ...      0.78   0.6505  0.5652  0.3999  0.7934  6.61   \n",
       "896        0.399   0.59  ...     -0.35   0.7228  0.5929  5.2301  1.2235  3.61   \n",
       "663        0.303  12.22  ...      1.51   0.4623  0.2873  0.3230  0.4738  1.17   \n",
       "662        0.343  13.82  ...      1.62   0.4623  0.2873  0.3230  0.4738  1.17   \n",
       "202        0.534   1.21  ...      1.07   0.4596  0.6868  0.2221  0.2030  6.90   \n",
       "200        0.535   1.21  ...      1.08   0.4596  0.6868  0.2221  0.2030  6.90   \n",
       "201        0.545   1.24  ...      1.14   0.4596  0.6868  0.2221  0.2030  6.90   \n",
       "827        0.645   4.36  ...      8.20   0.7869  0.6549  0.1372  0.2661  3.71   \n",
       "826        0.647   4.37  ...      8.21   0.7869  0.6549  0.1372  0.2661  3.71   \n",
       "825        0.648   4.37  ...      8.22   0.7869  0.6549  0.1372  0.2661  3.71   \n",
       "\n",
       "Multiples         liq2m       patrliq  divbpatr     c5y  \n",
       "823        1.826880e+06  1.550460e+09      0.67  0.3715  \n",
       "896        0.000000e+00  5.935800e+07      0.00  0.0577  \n",
       "663        3.211460e+09  3.724980e+11      0.79  0.1536  \n",
       "662        7.977180e+08  3.724980e+11      0.79  0.1536  \n",
       "202        1.645950e+05  9.625560e+08      0.00 -0.4332  \n",
       "200        6.968290e+04  9.625560e+08      0.00 -0.4332  \n",
       "201        6.310960e+04  9.625560e+08      0.00 -0.4332  \n",
       "827        4.556510e+06  6.950930e+09      1.22  0.2298  \n",
       "826        2.552010e+06  6.950930e+09      1.22  0.2298  \n",
       "825        1.146850e+08  6.950930e+09      1.22  0.2298  \n",
       "\n",
       "[10 rows x 23 columns]"
      ]
     },
     "execution_count": 15,
     "metadata": {},
     "output_type": "execute_result"
    }
   ],
   "source": [
    "filtro_ideal"
   ]
  },
  {
   "cell_type": "code",
   "execution_count": 16,
   "metadata": {},
   "outputs": [
    {
     "data": {
      "text/plain": [
       "Text(0.5, 1.0, 'Açoes com P/L maior que 0, ROE maior que 0.2, Margem Ebit maior que 0.4 e Dividend Yield maior que 0.1')"
      ]
     },
     "execution_count": 16,
     "metadata": {},
     "output_type": "execute_result"
    },
    {
     "data": {
      "image/png": "[encoded data removed]",
      "text/plain": [
       "<Figure size 2088x720 with 1 Axes>"
      ]
     },
     "metadata": {
      "needs_background": "light"
     },
     "output_type": "display_data"
    }
   ],
   "source": [
    "# PLOT FILTRO IDEAL\n",
    "\n",
    "plt.figure(figsize=(29,10));\n",
    "plt.bar(filtro_ideal.papel, filtro_ideal.dy);\n",
    "plt.xlabel(\"Ações\", **{'fontname':'Arial', 'size':'20'});\n",
    "plt.ylabel(\"DIVIDEND YIELD\", **{'fontname':'Arial', 'size':'20'});\n",
    "plt.xticks(rotation= 45, fontsize = 15);\n",
    "plt.yticks(fontsize=20);\n",
    "plt.title(\"Açoes com P/L maior que 0, ROE maior que 0.2, Margem Ebit maior que 0.4 e Dividend Yield maior que 0.1\")"
   ]
  },
  {
   "cell_type": "code",
   "execution_count": 17,
   "metadata": {},
   "outputs": [],
   "source": [
    "df_valido.to_csv('Analise Fundamentalista açoes BR.csv', mode='a', index = False, decimal=',', sep=';', header=None)"
   ]
  },
  {
   "cell_type": "code",
   "execution_count": 18,
   "metadata": {},
   "outputs": [
    {
     "data": {
      "text/plain": [
       "\"\\n# SALVA EXCEL\\n\\npath = 'Analise Fundamentalista açoes BR.xlsx'\\n\\nwriter = pd.ExcelWriter(path, engine='openpyxl')    \\n# copy existing sheets\\nwriter.sheets = dict((ws.title, ws) for ws in writer.book.worksheets)\\n# read existing file\\nreader = pd.read_excel(r'Analise Fundamentalista açoes BR.xlsx')\\n# write out the new sheet\\ndf_valido.to_excel(writer,index=False,header=False,startrow=len(reader)+1)\\n\\nwriter.close()\\n\""
      ]
     },
     "execution_count": 18,
     "metadata": {},
     "output_type": "execute_result"
    }
   ],
   "source": [
    "'''\n",
    "# SALVA EXCEL\n",
    "\n",
    "path = 'Analise Fundamentalista açoes BR.xlsx'\n",
    "\n",
    "writer = pd.ExcelWriter(path, engine='openpyxl')    \n",
    "# copy existing sheets\n",
    "writer.sheets = dict((ws.title, ws) for ws in writer.book.worksheets)\n",
    "# read existing file\n",
    "reader = pd.read_excel(r'Analise Fundamentalista açoes BR.xlsx')\n",
    "# write out the new sheet\n",
    "df_valido.to_excel(writer,index=False,header=False,startrow=len(reader)+1)\n",
    "\n",
    "writer.close()\n",
    "'''"
   ]
  },
  {
   "cell_type": "markdown",
   "metadata": {},
   "source": [
    "# Análise de Série Temporal de Ações Usando Python"
   ]
  },
  {
   "cell_type": "code",
   "execution_count": 2,
   "metadata": {},
   "outputs": [],
   "source": [
    "# REFERENCIA 1.1: https://tradingcomdados.com/conteudo/artigos/8-blog/43-analise-de-serie-temporal-e-normalizacao-a-100-de-acoes-usando-python\n",
    "# REFERENCIA 1.2: https://forum.casadodesenvolvedor.com.br/topic/45144-finan%C3%A7as-com-python-como-obter-dados-de-a%C3%A7%C3%B5es/\n",
    "# REFERENCIA 2: https://www.youtube.com/watch?v=7GGrt3-rRH8"
   ]
  },
  {
   "cell_type": "code",
   "execution_count": null,
   "metadata": {},
   "outputs": [],
   "source": [
    "#!pip install --user yfinance==0.1.62\n",
    "!pip install --user yfinance --upgrade --no-cache-dir"
   ]
  },
  {
   "cell_type": "code",
   "execution_count": 18,
   "metadata": {},
   "outputs": [],
   "source": [
    "from pandas_datareader import data as web\n",
    "import yfinance as yf\n",
    "yf.pdr_override()"
   ]
  },
  {
   "cell_type": "code",
   "execution_count": null,
   "metadata": {},
   "outputs": [
    {
     "name": "stderr",
     "output_type": "stream",
     "text": [
      "Exception in thread Thread-7:\n",
      "Traceback (most recent call last):\n",
      "  File \"C:\\Users\\a.bandeira.de.mello\\AppData\\Roaming\\Python\\Python37\\site-packages\\urllib3\\connectionpool.py\", line 672, in urlopen\n",
      "    chunked=chunked,\n",
      "  File \"C:\\Users\\a.bandeira.de.mello\\AppData\\Roaming\\Python\\Python37\\site-packages\\urllib3\\connectionpool.py\", line 376, in _make_request\n",
      "    self._validate_conn(conn)\n",
      "  File \"C:\\Users\\a.bandeira.de.mello\\AppData\\Roaming\\Python\\Python37\\site-packages\\urllib3\\connectionpool.py\", line 994, in _validate_conn\n",
      "    conn.connect()\n",
      "  File \"C:\\Users\\a.bandeira.de.mello\\AppData\\Roaming\\Python\\Python37\\site-packages\\urllib3\\connection.py\", line 360, in connect\n",
      "    ssl_context=context,\n",
      "  File \"C:\\Users\\a.bandeira.de.mello\\AppData\\Roaming\\Python\\Python37\\site-packages\\urllib3\\util\\ssl_.py\", line 370, in ssl_wrap_socket\n",
      "    return context.wrap_socket(sock, server_hostname=server_hostname)\n",
      "  File \"C:\\Program Files (x86)\\Anaconda3\\lib\\ssl.py\", line 412, in wrap_socket\n",
      "    session=session\n",
      "  File \"C:\\Program Files (x86)\\Anaconda3\\lib\\ssl.py\", line 853, in _create\n",
      "    self.do_handshake()\n",
      "  File \"C:\\Program Files (x86)\\Anaconda3\\lib\\ssl.py\", line 1117, in do_handshake\n",
      "    self._sslobj.do_handshake()\n",
      "ssl.SSLCertVerificationError: [SSL: CERTIFICATE_VERIFY_FAILED] certificate verify failed: self signed certificate in certificate chain (_ssl.c:1056)\n",
      "\n",
      "During handling of the above exception, another exception occurred:\n",
      "\n",
      "Traceback (most recent call last):\n",
      "  File \"C:\\Users\\a.bandeira.de.mello\\AppData\\Roaming\\Python\\Python37\\site-packages\\requests\\adapters.py\", line 499, in send\n",
      "    timeout=timeout,\n",
      "  File \"C:\\Users\\a.bandeira.de.mello\\AppData\\Roaming\\Python\\Python37\\site-packages\\urllib3\\connectionpool.py\", line 720, in urlopen\n",
      "    method, url, error=e, _pool=self, _stacktrace=sys.exc_info()[2]\n",
      "  File \"C:\\Users\\a.bandeira.de.mello\\AppData\\Roaming\\Python\\Python37\\site-packages\\urllib3\\util\\retry.py\", line 436, in increment\n",
      "    raise MaxRetryError(_pool, url, error or ResponseError(cause))\n",
      "urllib3.exceptions.MaxRetryError: HTTPSConnectionPool(host='query2.finance.yahoo.com', port=443): Max retries exceeded with url: /v8/finance/chart/%5EBVSP?period1=-2208988800&period2=1676299943&interval=1d&includePrePost=False&events=div%2Csplits (Caused by SSLError(SSLCertVerificationError(1, '[SSL: CERTIFICATE_VERIFY_FAILED] certificate verify failed: self signed certificate in certificate chain (_ssl.c:1056)')))\n",
      "\n",
      "During handling of the above exception, another exception occurred:\n",
      "\n",
      "Traceback (most recent call last):\n",
      "  File \"C:\\Program Files (x86)\\Anaconda3\\lib\\threading.py\", line 917, in _bootstrap_inner\n",
      "    self.run()\n",
      "  File \"C:\\Program Files (x86)\\Anaconda3\\lib\\threading.py\", line 865, in run\n",
      "    self._target(*self._args, **self._kwargs)\n",
      "  File \"C:\\Users\\a.bandeira.de.mello\\AppData\\Roaming\\Python\\Python37\\site-packages\\multitasking\\__init__.py\", line 104, in _run_via_pool\n",
      "    return callee(*args, **kwargs)\n",
      "  File \"C:\\Users\\a.bandeira.de.mello\\AppData\\Roaming\\Python\\Python37\\site-packages\\yfinance\\multi.py\", line 170, in _download_one_threaded\n",
      "    actions, period, interval, prepost, proxy, rounding)\n",
      "  File \"C:\\Users\\a.bandeira.de.mello\\AppData\\Roaming\\Python\\Python37\\site-packages\\yfinance\\multi.py\", line 185, in _download_one\n",
      "    rounding=rounding, many=True)\n",
      "  File \"C:\\Users\\a.bandeira.de.mello\\AppData\\Roaming\\Python\\Python37\\site-packages\\yfinance\\base.py\", line 156, in history\n",
      "    headers=utils.user_agent_headers\n",
      "  File \"C:\\Users\\a.bandeira.de.mello\\AppData\\Roaming\\Python\\Python37\\site-packages\\requests\\api.py\", line 73, in get\n",
      "    return request(\"get\", url, params=params, **kwargs)\n",
      "  File \"C:\\Users\\a.bandeira.de.mello\\AppData\\Roaming\\Python\\Python37\\site-packages\\requests\\api.py\", line 59, in request\n",
      "    return session.request(method=method, url=url, **kwargs)\n",
      "  File \"C:\\Users\\a.bandeira.de.mello\\AppData\\Roaming\\Python\\Python37\\site-packages\\requests\\sessions.py\", line 587, in request\n",
      "    resp = self.send(prep, **send_kwargs)\n",
      "  File \"C:\\Users\\a.bandeira.de.mello\\AppData\\Roaming\\Python\\Python37\\site-packages\\requests\\sessions.py\", line 701, in send\n",
      "    r = adapter.send(request, **kwargs)\n",
      "  File \"C:\\Users\\a.bandeira.de.mello\\AppData\\Roaming\\Python\\Python37\\site-packages\\requests\\adapters.py\", line 563, in send\n",
      "    raise SSLError(e, request=request)\n",
      "requests.exceptions.SSLError: HTTPSConnectionPool(host='query2.finance.yahoo.com', port=443): Max retries exceeded with url: /v8/finance/chart/%5EBVSP?period1=-2208988800&period2=1676299943&interval=1d&includePrePost=False&events=div%2Csplits (Caused by SSLError(SSLCertVerificationError(1, '[SSL: CERTIFICATE_VERIFY_FAILED] certificate verify failed: self signed certificate in certificate chain (_ssl.c:1056)')))\n",
      "\n"
     ]
    }
   ],
   "source": [
    "ibov = web.get_data_yahoo('^BVSP')"
   ]
  },
  {
   "cell_type": "code",
   "execution_count": 5,
   "metadata": {},
   "outputs": [
    {
     "ename": "NameError",
     "evalue": "name 'ibov' is not defined",
     "output_type": "error",
     "traceback": [
      "\u001b[1;31m---------------------------------------------------------------------------\u001b[0m",
      "\u001b[1;31mNameError\u001b[0m                                 Traceback (most recent call last)",
      "\u001b[1;32m<ipython-input-5-bf2543fc2cb0>\u001b[0m in \u001b[0;36m<module>\u001b[1;34m\u001b[0m\n\u001b[1;32m----> 1\u001b[1;33m \u001b[0mibov\u001b[0m\u001b[1;33m.\u001b[0m\u001b[0mhead\u001b[0m\u001b[1;33m(\u001b[0m\u001b[1;33m)\u001b[0m\u001b[1;33m\u001b[0m\u001b[1;33m\u001b[0m\u001b[0m\n\u001b[0m",
      "\u001b[1;31mNameError\u001b[0m: name 'ibov' is not defined"
     ]
    }
   ],
   "source": [
    "ibov.head()"
   ]
  },
  {
   "cell_type": "code",
   "execution_count": 19,
   "metadata": {},
   "outputs": [],
   "source": [
    "import yfinance as yf\n",
    "import matplotlib.pyplot as plt"
   ]
  },
  {
   "cell_type": "code",
   "execution_count": 20,
   "metadata": {},
   "outputs": [
    {
     "name": "stderr",
     "output_type": "stream",
     "text": [
      "Exception in thread Thread-7:\n",
      "Traceback (most recent call last):\n",
      "  File \"C:\\Users\\a.bandeira.de.mello\\AppData\\Roaming\\Python\\Python37\\site-packages\\urllib3\\connectionpool.py\", line 672, in urlopen\n",
      "    chunked=chunked,\n",
      "  File \"C:\\Users\\a.bandeira.de.mello\\AppData\\Roaming\\Python\\Python37\\site-packages\\urllib3\\connectionpool.py\", line 376, in _make_request\n",
      "    self._validate_conn(conn)\n",
      "  File \"C:\\Users\\a.bandeira.de.mello\\AppData\\Roaming\\Python\\Python37\\site-packages\\urllib3\\connectionpool.py\", line 994, in _validate_conn\n",
      "    conn.connect()\n",
      "  File \"C:\\Users\\a.bandeira.de.mello\\AppData\\Roaming\\Python\\Python37\\site-packages\\urllib3\\connection.py\", line 360, in connect\n",
      "    ssl_context=context,\n",
      "  File \"C:\\Users\\a.bandeira.de.mello\\AppData\\Roaming\\Python\\Python37\\site-packages\\urllib3\\util\\ssl_.py\", line 370, in ssl_wrap_socket\n",
      "    return context.wrap_socket(sock, server_hostname=server_hostname)\n",
      "  File \"C:\\Program Files (x86)\\Anaconda3\\lib\\ssl.py\", line 412, in wrap_socket\n",
      "    session=session\n",
      "  File \"C:\\Program Files (x86)\\Anaconda3\\lib\\ssl.py\", line 853, in _create\n",
      "    self.do_handshake()\n",
      "  File \"C:\\Program Files (x86)\\Anaconda3\\lib\\ssl.py\", line 1117, in do_handshake\n",
      "    self._sslobj.do_handshake()\n",
      "ssl.SSLCertVerificationError: [SSL: CERTIFICATE_VERIFY_FAILED] certificate verify failed: self signed certificate in certificate chain (_ssl.c:1056)\n",
      "\n",
      "During handling of the above exception, another exception occurred:\n",
      "\n",
      "Traceback (most recent call last):\n",
      "  File \"C:\\Users\\a.bandeira.de.mello\\AppData\\Roaming\\Python\\Python37\\site-packages\\requests\\adapters.py\", line 499, in send\n",
      "    timeout=timeout,\n",
      "  File \"C:\\Users\\a.bandeira.de.mello\\AppData\\Roaming\\Python\\Python37\\site-packages\\urllib3\\connectionpool.py\", line 720, in urlopen\n",
      "    method, url, error=e, _pool=self, _stacktrace=sys.exc_info()[2]\n",
      "  File \"C:\\Users\\a.bandeira.de.mello\\AppData\\Roaming\\Python\\Python37\\site-packages\\urllib3\\util\\retry.py\", line 436, in increment\n",
      "    raise MaxRetryError(_pool, url, error or ResponseError(cause))\n",
      "urllib3.exceptions.MaxRetryError: HTTPSConnectionPool(host='query2.finance.yahoo.com', port=443): Max retries exceeded with url: /v8/finance/chart/VALE.SA?period1=1674946800&period2=1675119600&interval=1d&includePrePost=False&events=div%2Csplits (Caused by SSLError(SSLCertVerificationError(1, '[SSL: CERTIFICATE_VERIFY_FAILED] certificate verify failed: self signed certificate in certificate chain (_ssl.c:1056)')))\n",
      "\n",
      "During handling of the above exception, another exception occurred:\n",
      "\n",
      "Traceback (most recent call last):\n",
      "  File \"C:\\Program Files (x86)\\Anaconda3\\lib\\threading.py\", line 917, in _bootstrap_inner\n",
      "    self.run()\n",
      "  File \"C:\\Program Files (x86)\\Anaconda3\\lib\\threading.py\", line 865, in run\n",
      "    self._target(*self._args, **self._kwargs)\n",
      "  File \"C:\\Users\\a.bandeira.de.mello\\AppData\\Roaming\\Python\\Python37\\site-packages\\multitasking\\__init__.py\", line 104, in _run_via_pool\n",
      "    return callee(*args, **kwargs)\n",
      "  File \"C:\\Users\\a.bandeira.de.mello\\AppData\\Roaming\\Python\\Python37\\site-packages\\yfinance\\multi.py\", line 170, in _download_one_threaded\n",
      "    actions, period, interval, prepost, proxy, rounding)\n",
      "  File \"C:\\Users\\a.bandeira.de.mello\\AppData\\Roaming\\Python\\Python37\\site-packages\\yfinance\\multi.py\", line 185, in _download_one\n",
      "    rounding=rounding, many=True)\n",
      "  File \"C:\\Users\\a.bandeira.de.mello\\AppData\\Roaming\\Python\\Python37\\site-packages\\yfinance\\base.py\", line 156, in history\n",
      "    headers=utils.user_agent_headers\n",
      "  File \"C:\\Users\\a.bandeira.de.mello\\AppData\\Roaming\\Python\\Python37\\site-packages\\requests\\api.py\", line 73, in get\n",
      "    return request(\"get\", url, params=params, **kwargs)\n",
      "  File \"C:\\Users\\a.bandeira.de.mello\\AppData\\Roaming\\Python\\Python37\\site-packages\\requests\\api.py\", line 59, in request\n",
      "    return session.request(method=method, url=url, **kwargs)\n",
      "  File \"C:\\Users\\a.bandeira.de.mello\\AppData\\Roaming\\Python\\Python37\\site-packages\\requests\\sessions.py\", line 587, in request\n",
      "    resp = self.send(prep, **send_kwargs)\n",
      "  File \"C:\\Users\\a.bandeira.de.mello\\AppData\\Roaming\\Python\\Python37\\site-packages\\requests\\sessions.py\", line 701, in send\n",
      "    r = adapter.send(request, **kwargs)\n",
      "  File \"C:\\Users\\a.bandeira.de.mello\\AppData\\Roaming\\Python\\Python37\\site-packages\\requests\\adapters.py\", line 563, in send\n",
      "    raise SSLError(e, request=request)\n",
      "requests.exceptions.SSLError: HTTPSConnectionPool(host='query2.finance.yahoo.com', port=443): Max retries exceeded with url: /v8/finance/chart/VALE.SA?period1=1674946800&period2=1675119600&interval=1d&includePrePost=False&events=div%2Csplits (Caused by SSLError(SSLCertVerificationError(1, '[SSL: CERTIFICATE_VERIFY_FAILED] certificate verify failed: self signed certificate in certificate chain (_ssl.c:1056)')))\n",
      "\n"
     ]
    },
    {
     "ename": "KeyboardInterrupt",
     "evalue": "",
     "output_type": "error",
     "traceback": [
      "\u001b[1;31m---------------------------------------------------------------------------\u001b[0m",
      "\u001b[1;31mKeyboardInterrupt\u001b[0m                         Traceback (most recent call last)",
      "\u001b[1;32m<ipython-input-20-fa9567b5a8f4>\u001b[0m in \u001b[0;36m<module>\u001b[1;34m\u001b[0m\n\u001b[1;32m----> 1\u001b[1;33m \u001b[0mserie_vale\u001b[0m \u001b[1;33m=\u001b[0m \u001b[0myf\u001b[0m\u001b[1;33m.\u001b[0m\u001b[0mdownload\u001b[0m\u001b[1;33m(\u001b[0m\u001b[1;34m'VALE.SA'\u001b[0m\u001b[1;33m,\u001b[0m \u001b[0mstart\u001b[0m\u001b[1;33m=\u001b[0m\u001b[1;34m'2023-01-29'\u001b[0m\u001b[1;33m,\u001b[0m \u001b[0mend\u001b[0m\u001b[1;33m=\u001b[0m\u001b[1;34m'2023-01-31'\u001b[0m\u001b[1;33m,\u001b[0m \u001b[0mrounding\u001b[0m\u001b[1;33m=\u001b[0m\u001b[1;32mTrue\u001b[0m\u001b[1;33m)\u001b[0m\u001b[1;33m\u001b[0m\u001b[1;33m\u001b[0m\u001b[0m\n\u001b[0m",
      "\u001b[1;32m~\\AppData\\Roaming\\Python\\Python37\\site-packages\\yfinance\\multi.py\u001b[0m in \u001b[0;36mdownload\u001b[1;34m(tickers, start, end, actions, threads, group_by, auto_adjust, back_adjust, progress, period, show_errors, interval, prepost, proxy, rounding, **kwargs)\u001b[0m\n\u001b[0;32m     95\u001b[0m                                    rounding=rounding)\n\u001b[0;32m     96\u001b[0m         \u001b[1;32mwhile\u001b[0m \u001b[0mlen\u001b[0m\u001b[1;33m(\u001b[0m\u001b[0mshared\u001b[0m\u001b[1;33m.\u001b[0m\u001b[0m_DFS\u001b[0m\u001b[1;33m)\u001b[0m \u001b[1;33m<\u001b[0m \u001b[0mlen\u001b[0m\u001b[1;33m(\u001b[0m\u001b[0mtickers\u001b[0m\u001b[1;33m)\u001b[0m\u001b[1;33m:\u001b[0m\u001b[1;33m\u001b[0m\u001b[1;33m\u001b[0m\u001b[0m\n\u001b[1;32m---> 97\u001b[1;33m             \u001b[0m_time\u001b[0m\u001b[1;33m.\u001b[0m\u001b[0msleep\u001b[0m\u001b[1;33m(\u001b[0m\u001b[1;36m0.01\u001b[0m\u001b[1;33m)\u001b[0m\u001b[1;33m\u001b[0m\u001b[1;33m\u001b[0m\u001b[0m\n\u001b[0m\u001b[0;32m     98\u001b[0m \u001b[1;33m\u001b[0m\u001b[0m\n\u001b[0;32m     99\u001b[0m     \u001b[1;31m# download synchronously\u001b[0m\u001b[1;33m\u001b[0m\u001b[1;33m\u001b[0m\u001b[1;33m\u001b[0m\u001b[0m\n",
      "\u001b[1;31mKeyboardInterrupt\u001b[0m: "
     ]
    }
   ],
   "source": [
    "serie_vale = yf.download('VALE.SA', start='2023-01-29', end='2023-01-31', rounding=True) "
   ]
  },
  {
   "cell_type": "code",
   "execution_count": 32,
   "metadata": {},
   "outputs": [
    {
     "ename": "NameError",
     "evalue": "name 'serie_vale' is not defined",
     "output_type": "error",
     "traceback": [
      "\u001b[1;31m---------------------------------------------------------------------------\u001b[0m",
      "\u001b[1;31mNameError\u001b[0m                                 Traceback (most recent call last)",
      "\u001b[1;32m<ipython-input-32-30b69af57942>\u001b[0m in \u001b[0;36m<module>\u001b[1;34m\u001b[0m\n\u001b[1;32m----> 1\u001b[1;33m \u001b[0mserie_vale\u001b[0m\u001b[1;33m.\u001b[0m\u001b[0mhead\u001b[0m\u001b[1;33m(\u001b[0m\u001b[1;33m)\u001b[0m\u001b[1;33m\u001b[0m\u001b[1;33m\u001b[0m\u001b[0m\n\u001b[0m",
      "\u001b[1;31mNameError\u001b[0m: name 'serie_vale' is not defined"
     ]
    }
   ],
   "source": [
    "serie_vale.head()"
   ]
  },
  {
   "cell_type": "code",
   "execution_count": null,
   "metadata": {},
   "outputs": [],
   "source": [
    "# REFERENCIA 2: https://pypi.org/project/b3api/"
   ]
  },
  {
   "cell_type": "code",
   "execution_count": 4,
   "metadata": {},
   "outputs": [],
   "source": [
    "import b3api"
   ]
  },
  {
   "cell_type": "code",
   "execution_count": 8,
   "metadata": {},
   "outputs": [
    {
     "ename": "TypeError",
     "evalue": "get() got an unexpected keyword argument 'verify'",
     "output_type": "error",
     "traceback": [
      "\u001b[1;31m---------------------------------------------------------------------------\u001b[0m",
      "\u001b[1;31mTypeError\u001b[0m                                 Traceback (most recent call last)",
      "\u001b[1;32m<ipython-input-8-8c2c6e9d89af>\u001b[0m in \u001b[0;36m<module>\u001b[1;34m\u001b[0m\n\u001b[1;32m----> 1\u001b[1;33m \u001b[0mdata\u001b[0m \u001b[1;33m=\u001b[0m \u001b[0mb3api\u001b[0m\u001b[1;33m.\u001b[0m\u001b[0massets\u001b[0m\u001b[1;33m.\u001b[0m\u001b[0mget\u001b[0m\u001b[1;33m(\u001b[0m\u001b[1;34m'itsa4'\u001b[0m\u001b[1;33m,\u001b[0m \u001b[0mverify\u001b[0m \u001b[1;33m=\u001b[0m \u001b[1;32mFalse\u001b[0m\u001b[1;33m)\u001b[0m\u001b[1;33m\u001b[0m\u001b[1;33m\u001b[0m\u001b[0m\n\u001b[0m\u001b[0;32m      2\u001b[0m \u001b[1;33m\u001b[0m\u001b[0m\n\u001b[0;32m      3\u001b[0m \u001b[1;31m#data = b3api.assets.getAll(['ITSA4'])\u001b[0m\u001b[1;33m\u001b[0m\u001b[1;33m\u001b[0m\u001b[1;33m\u001b[0m\u001b[0m\n\u001b[0;32m      4\u001b[0m \u001b[0mprint\u001b[0m\u001b[1;33m(\u001b[0m\u001b[0mdata\u001b[0m\u001b[1;33m)\u001b[0m\u001b[1;33m\u001b[0m\u001b[1;33m\u001b[0m\u001b[0m\n",
      "\u001b[1;31mTypeError\u001b[0m: get() got an unexpected keyword argument 'verify'"
     ]
    }
   ],
   "source": [
    "data = b3api.assets.get('itsa4')\n",
    "\n",
    "#data = b3api.assets.getAll(['ITSA4'])\n",
    "print(data)"
   ]
  },
  {
   "cell_type": "code",
   "execution_count": 13,
   "metadata": {},
   "outputs": [],
   "source": [
    "# REFERENCIA 3: https://sigmoidal.ai/como-analisar-acoes-da-bolsa-com-python/"
   ]
  },
  {
   "cell_type": "code",
   "execution_count": 11,
   "metadata": {},
   "outputs": [],
   "source": [
    "# importar as bibliotecas necessárias\n",
    "from pandas_datareader import data as web\n",
    "import plotly.graph_objects as go\n",
    "\n",
    "# criar um DataFrame vazio\n",
    "df = pd.DataFrame()\n",
    "\n",
    "# escolher a ação desejada\n",
    "acao = 'ITUB3.SA'\n",
    "# importar dados para o DataFrame\n",
    "df = web.DataReader(acao, data_source='yahoo', start='01-01-2000')\n",
    "# ver as 5 primeiras entradas\n",
    "df.head()"
   ]
  },
  {
   "cell_type": "code",
   "execution_count": 1,
   "metadata": {},
   "outputs": [],
   "source": [
    "# ALPHA VANTAGE\n",
    "# https://www.youtube.com/watch?v=kB4jCoVyLRI"
   ]
  },
  {
   "cell_type": "code",
   "execution_count": 21,
   "metadata": {},
   "outputs": [],
   "source": [
    "API_KEY = '35P04JH4ONHOFNYL'"
   ]
  },
  {
   "cell_type": "code",
   "execution_count": 22,
   "metadata": {},
   "outputs": [],
   "source": [
    "from alpha_vantage.timeseries import TimeSeries"
   ]
  },
  {
   "cell_type": "markdown",
   "metadata": {},
   "source": [
    "## Acessando a API"
   ]
  },
  {
   "cell_type": "code",
   "execution_count": 23,
   "metadata": {},
   "outputs": [],
   "source": [
    "ts = TimeSeries(key=API_KEY, output_format='pandas')"
   ]
  },
  {
   "cell_type": "code",
   "execution_count": 24,
   "metadata": {},
   "outputs": [
    {
     "ename": "SSLError",
     "evalue": "HTTPSConnectionPool(host='www.alphavantage.co', port=443): Max retries exceeded with url: /query?function=SYMBOL_SEARCH&keywords=itau&apikey=35P04JH4ONHOFNYL&datatype=json (Caused by SSLError(SSLCertVerificationError(1, '[SSL: CERTIFICATE_VERIFY_FAILED] certificate verify failed: self signed certificate in certificate chain (_ssl.c:1056)')))",
     "output_type": "error",
     "traceback": [
      "\u001b[1;31m---------------------------------------------------------------------------\u001b[0m",
      "\u001b[1;31mSSLCertVerificationError\u001b[0m                  Traceback (most recent call last)",
      "\u001b[1;32m~\\AppData\\Roaming\\Python\\Python37\\site-packages\\urllib3\\connectionpool.py\u001b[0m in \u001b[0;36murlopen\u001b[1;34m(self, method, url, body, headers, retries, redirect, assert_same_host, timeout, pool_timeout, release_conn, chunked, body_pos, **response_kw)\u001b[0m\n\u001b[0;32m    671\u001b[0m                 \u001b[0mheaders\u001b[0m\u001b[1;33m=\u001b[0m\u001b[0mheaders\u001b[0m\u001b[1;33m,\u001b[0m\u001b[1;33m\u001b[0m\u001b[1;33m\u001b[0m\u001b[0m\n\u001b[1;32m--> 672\u001b[1;33m                 \u001b[0mchunked\u001b[0m\u001b[1;33m=\u001b[0m\u001b[0mchunked\u001b[0m\u001b[1;33m,\u001b[0m\u001b[1;33m\u001b[0m\u001b[1;33m\u001b[0m\u001b[0m\n\u001b[0m\u001b[0;32m    673\u001b[0m             )\n",
      "\u001b[1;32m~\\AppData\\Roaming\\Python\\Python37\\site-packages\\urllib3\\connectionpool.py\u001b[0m in \u001b[0;36m_make_request\u001b[1;34m(self, conn, method, url, timeout, chunked, **httplib_request_kw)\u001b[0m\n\u001b[0;32m    375\u001b[0m         \u001b[1;32mtry\u001b[0m\u001b[1;33m:\u001b[0m\u001b[1;33m\u001b[0m\u001b[1;33m\u001b[0m\u001b[0m\n\u001b[1;32m--> 376\u001b[1;33m             \u001b[0mself\u001b[0m\u001b[1;33m.\u001b[0m\u001b[0m_validate_conn\u001b[0m\u001b[1;33m(\u001b[0m\u001b[0mconn\u001b[0m\u001b[1;33m)\u001b[0m\u001b[1;33m\u001b[0m\u001b[1;33m\u001b[0m\u001b[0m\n\u001b[0m\u001b[0;32m    377\u001b[0m         \u001b[1;32mexcept\u001b[0m \u001b[1;33m(\u001b[0m\u001b[0mSocketTimeout\u001b[0m\u001b[1;33m,\u001b[0m \u001b[0mBaseSSLError\u001b[0m\u001b[1;33m)\u001b[0m \u001b[1;32mas\u001b[0m \u001b[0me\u001b[0m\u001b[1;33m:\u001b[0m\u001b[1;33m\u001b[0m\u001b[1;33m\u001b[0m\u001b[0m\n",
      "\u001b[1;32m~\\AppData\\Roaming\\Python\\Python37\\site-packages\\urllib3\\connectionpool.py\u001b[0m in \u001b[0;36m_validate_conn\u001b[1;34m(self, conn)\u001b[0m\n\u001b[0;32m    993\u001b[0m         \u001b[1;32mif\u001b[0m \u001b[1;32mnot\u001b[0m \u001b[0mgetattr\u001b[0m\u001b[1;33m(\u001b[0m\u001b[0mconn\u001b[0m\u001b[1;33m,\u001b[0m \u001b[1;34m\"sock\"\u001b[0m\u001b[1;33m,\u001b[0m \u001b[1;32mNone\u001b[0m\u001b[1;33m)\u001b[0m\u001b[1;33m:\u001b[0m  \u001b[1;31m# AppEngine might not have  `.sock`\u001b[0m\u001b[1;33m\u001b[0m\u001b[1;33m\u001b[0m\u001b[0m\n\u001b[1;32m--> 994\u001b[1;33m             \u001b[0mconn\u001b[0m\u001b[1;33m.\u001b[0m\u001b[0mconnect\u001b[0m\u001b[1;33m(\u001b[0m\u001b[1;33m)\u001b[0m\u001b[1;33m\u001b[0m\u001b[1;33m\u001b[0m\u001b[0m\n\u001b[0m\u001b[0;32m    995\u001b[0m \u001b[1;33m\u001b[0m\u001b[0m\n",
      "\u001b[1;32m~\\AppData\\Roaming\\Python\\Python37\\site-packages\\urllib3\\connection.py\u001b[0m in \u001b[0;36mconnect\u001b[1;34m(self)\u001b[0m\n\u001b[0;32m    359\u001b[0m             \u001b[0mserver_hostname\u001b[0m\u001b[1;33m=\u001b[0m\u001b[0mserver_hostname\u001b[0m\u001b[1;33m,\u001b[0m\u001b[1;33m\u001b[0m\u001b[1;33m\u001b[0m\u001b[0m\n\u001b[1;32m--> 360\u001b[1;33m             \u001b[0mssl_context\u001b[0m\u001b[1;33m=\u001b[0m\u001b[0mcontext\u001b[0m\u001b[1;33m,\u001b[0m\u001b[1;33m\u001b[0m\u001b[1;33m\u001b[0m\u001b[0m\n\u001b[0m\u001b[0;32m    361\u001b[0m         )\n",
      "\u001b[1;32m~\\AppData\\Roaming\\Python\\Python37\\site-packages\\urllib3\\util\\ssl_.py\u001b[0m in \u001b[0;36mssl_wrap_socket\u001b[1;34m(sock, keyfile, certfile, cert_reqs, ca_certs, server_hostname, ssl_version, ciphers, ssl_context, ca_cert_dir, key_password)\u001b[0m\n\u001b[0;32m    369\u001b[0m         \u001b[1;32mif\u001b[0m \u001b[0mHAS_SNI\u001b[0m \u001b[1;32mand\u001b[0m \u001b[0mserver_hostname\u001b[0m \u001b[1;32mis\u001b[0m \u001b[1;32mnot\u001b[0m \u001b[1;32mNone\u001b[0m\u001b[1;33m:\u001b[0m\u001b[1;33m\u001b[0m\u001b[1;33m\u001b[0m\u001b[0m\n\u001b[1;32m--> 370\u001b[1;33m             \u001b[1;32mreturn\u001b[0m \u001b[0mcontext\u001b[0m\u001b[1;33m.\u001b[0m\u001b[0mwrap_socket\u001b[0m\u001b[1;33m(\u001b[0m\u001b[0msock\u001b[0m\u001b[1;33m,\u001b[0m \u001b[0mserver_hostname\u001b[0m\u001b[1;33m=\u001b[0m\u001b[0mserver_hostname\u001b[0m\u001b[1;33m)\u001b[0m\u001b[1;33m\u001b[0m\u001b[1;33m\u001b[0m\u001b[0m\n\u001b[0m\u001b[0;32m    371\u001b[0m \u001b[1;33m\u001b[0m\u001b[0m\n",
      "\u001b[1;32mC:\\Program Files (x86)\\Anaconda3\\lib\\ssl.py\u001b[0m in \u001b[0;36mwrap_socket\u001b[1;34m(self, sock, server_side, do_handshake_on_connect, suppress_ragged_eofs, server_hostname, session)\u001b[0m\n\u001b[0;32m    411\u001b[0m             \u001b[0mcontext\u001b[0m\u001b[1;33m=\u001b[0m\u001b[0mself\u001b[0m\u001b[1;33m,\u001b[0m\u001b[1;33m\u001b[0m\u001b[1;33m\u001b[0m\u001b[0m\n\u001b[1;32m--> 412\u001b[1;33m             \u001b[0msession\u001b[0m\u001b[1;33m=\u001b[0m\u001b[0msession\u001b[0m\u001b[1;33m\u001b[0m\u001b[1;33m\u001b[0m\u001b[0m\n\u001b[0m\u001b[0;32m    413\u001b[0m         )\n",
      "\u001b[1;32mC:\\Program Files (x86)\\Anaconda3\\lib\\ssl.py\u001b[0m in \u001b[0;36m_create\u001b[1;34m(cls, sock, server_side, do_handshake_on_connect, suppress_ragged_eofs, server_hostname, context, session)\u001b[0m\n\u001b[0;32m    852\u001b[0m                         \u001b[1;32mraise\u001b[0m \u001b[0mValueError\u001b[0m\u001b[1;33m(\u001b[0m\u001b[1;34m\"do_handshake_on_connect should not be specified for non-blocking sockets\"\u001b[0m\u001b[1;33m)\u001b[0m\u001b[1;33m\u001b[0m\u001b[1;33m\u001b[0m\u001b[0m\n\u001b[1;32m--> 853\u001b[1;33m                     \u001b[0mself\u001b[0m\u001b[1;33m.\u001b[0m\u001b[0mdo_handshake\u001b[0m\u001b[1;33m(\u001b[0m\u001b[1;33m)\u001b[0m\u001b[1;33m\u001b[0m\u001b[1;33m\u001b[0m\u001b[0m\n\u001b[0m\u001b[0;32m    854\u001b[0m             \u001b[1;32mexcept\u001b[0m \u001b[1;33m(\u001b[0m\u001b[0mOSError\u001b[0m\u001b[1;33m,\u001b[0m \u001b[0mValueError\u001b[0m\u001b[1;33m)\u001b[0m\u001b[1;33m:\u001b[0m\u001b[1;33m\u001b[0m\u001b[1;33m\u001b[0m\u001b[0m\n",
      "\u001b[1;32mC:\\Program Files (x86)\\Anaconda3\\lib\\ssl.py\u001b[0m in \u001b[0;36mdo_handshake\u001b[1;34m(self, block)\u001b[0m\n\u001b[0;32m   1116\u001b[0m                 \u001b[0mself\u001b[0m\u001b[1;33m.\u001b[0m\u001b[0msettimeout\u001b[0m\u001b[1;33m(\u001b[0m\u001b[1;32mNone\u001b[0m\u001b[1;33m)\u001b[0m\u001b[1;33m\u001b[0m\u001b[1;33m\u001b[0m\u001b[0m\n\u001b[1;32m-> 1117\u001b[1;33m             \u001b[0mself\u001b[0m\u001b[1;33m.\u001b[0m\u001b[0m_sslobj\u001b[0m\u001b[1;33m.\u001b[0m\u001b[0mdo_handshake\u001b[0m\u001b[1;33m(\u001b[0m\u001b[1;33m)\u001b[0m\u001b[1;33m\u001b[0m\u001b[1;33m\u001b[0m\u001b[0m\n\u001b[0m\u001b[0;32m   1118\u001b[0m         \u001b[1;32mfinally\u001b[0m\u001b[1;33m:\u001b[0m\u001b[1;33m\u001b[0m\u001b[1;33m\u001b[0m\u001b[0m\n",
      "\u001b[1;31mSSLCertVerificationError\u001b[0m: [SSL: CERTIFICATE_VERIFY_FAILED] certificate verify failed: self signed certificate in certificate chain (_ssl.c:1056)",
      "\nDuring handling of the above exception, another exception occurred:\n",
      "\u001b[1;31mMaxRetryError\u001b[0m                             Traceback (most recent call last)",
      "\u001b[1;32m~\\AppData\\Roaming\\Python\\Python37\\site-packages\\requests\\adapters.py\u001b[0m in \u001b[0;36msend\u001b[1;34m(self, request, stream, timeout, verify, cert, proxies)\u001b[0m\n\u001b[0;32m    498\u001b[0m                     \u001b[0mretries\u001b[0m\u001b[1;33m=\u001b[0m\u001b[0mself\u001b[0m\u001b[1;33m.\u001b[0m\u001b[0mmax_retries\u001b[0m\u001b[1;33m,\u001b[0m\u001b[1;33m\u001b[0m\u001b[1;33m\u001b[0m\u001b[0m\n\u001b[1;32m--> 499\u001b[1;33m                     \u001b[0mtimeout\u001b[0m\u001b[1;33m=\u001b[0m\u001b[0mtimeout\u001b[0m\u001b[1;33m,\u001b[0m\u001b[1;33m\u001b[0m\u001b[1;33m\u001b[0m\u001b[0m\n\u001b[0m\u001b[0;32m    500\u001b[0m                 )\n",
      "\u001b[1;32m~\\AppData\\Roaming\\Python\\Python37\\site-packages\\urllib3\\connectionpool.py\u001b[0m in \u001b[0;36murlopen\u001b[1;34m(self, method, url, body, headers, retries, redirect, assert_same_host, timeout, pool_timeout, release_conn, chunked, body_pos, **response_kw)\u001b[0m\n\u001b[0;32m    719\u001b[0m             retries = retries.increment(\n\u001b[1;32m--> 720\u001b[1;33m                 \u001b[0mmethod\u001b[0m\u001b[1;33m,\u001b[0m \u001b[0murl\u001b[0m\u001b[1;33m,\u001b[0m \u001b[0merror\u001b[0m\u001b[1;33m=\u001b[0m\u001b[0me\u001b[0m\u001b[1;33m,\u001b[0m \u001b[0m_pool\u001b[0m\u001b[1;33m=\u001b[0m\u001b[0mself\u001b[0m\u001b[1;33m,\u001b[0m \u001b[0m_stacktrace\u001b[0m\u001b[1;33m=\u001b[0m\u001b[0msys\u001b[0m\u001b[1;33m.\u001b[0m\u001b[0mexc_info\u001b[0m\u001b[1;33m(\u001b[0m\u001b[1;33m)\u001b[0m\u001b[1;33m[\u001b[0m\u001b[1;36m2\u001b[0m\u001b[1;33m]\u001b[0m\u001b[1;33m\u001b[0m\u001b[1;33m\u001b[0m\u001b[0m\n\u001b[0m\u001b[0;32m    721\u001b[0m             )\n",
      "\u001b[1;32m~\\AppData\\Roaming\\Python\\Python37\\site-packages\\urllib3\\util\\retry.py\u001b[0m in \u001b[0;36mincrement\u001b[1;34m(self, method, url, response, error, _pool, _stacktrace)\u001b[0m\n\u001b[0;32m    435\u001b[0m         \u001b[1;32mif\u001b[0m \u001b[0mnew_retry\u001b[0m\u001b[1;33m.\u001b[0m\u001b[0mis_exhausted\u001b[0m\u001b[1;33m(\u001b[0m\u001b[1;33m)\u001b[0m\u001b[1;33m:\u001b[0m\u001b[1;33m\u001b[0m\u001b[1;33m\u001b[0m\u001b[0m\n\u001b[1;32m--> 436\u001b[1;33m             \u001b[1;32mraise\u001b[0m \u001b[0mMaxRetryError\u001b[0m\u001b[1;33m(\u001b[0m\u001b[0m_pool\u001b[0m\u001b[1;33m,\u001b[0m \u001b[0murl\u001b[0m\u001b[1;33m,\u001b[0m \u001b[0merror\u001b[0m \u001b[1;32mor\u001b[0m \u001b[0mResponseError\u001b[0m\u001b[1;33m(\u001b[0m\u001b[0mcause\u001b[0m\u001b[1;33m)\u001b[0m\u001b[1;33m)\u001b[0m\u001b[1;33m\u001b[0m\u001b[1;33m\u001b[0m\u001b[0m\n\u001b[0m\u001b[0;32m    437\u001b[0m \u001b[1;33m\u001b[0m\u001b[0m\n",
      "\u001b[1;31mMaxRetryError\u001b[0m: HTTPSConnectionPool(host='www.alphavantage.co', port=443): Max retries exceeded with url: /query?function=SYMBOL_SEARCH&keywords=itau&apikey=35P04JH4ONHOFNYL&datatype=json (Caused by SSLError(SSLCertVerificationError(1, '[SSL: CERTIFICATE_VERIFY_FAILED] certificate verify failed: self signed certificate in certificate chain (_ssl.c:1056)')))",
      "\nDuring handling of the above exception, another exception occurred:\n",
      "\u001b[1;31mSSLError\u001b[0m                                  Traceback (most recent call last)",
      "\u001b[1;32m<ipython-input-24-4f17352b0c10>\u001b[0m in \u001b[0;36m<module>\u001b[1;34m\u001b[0m\n\u001b[1;32m----> 1\u001b[1;33m \u001b[0mts\u001b[0m\u001b[1;33m.\u001b[0m\u001b[0mget_symbol_search\u001b[0m\u001b[1;33m(\u001b[0m\u001b[1;34m'itau'\u001b[0m\u001b[1;33m)\u001b[0m\u001b[1;33m\u001b[0m\u001b[1;33m\u001b[0m\u001b[0m\n\u001b[0m",
      "\u001b[1;32m~\\AppData\\Roaming\\Python\\Python37\\site-packages\\alpha_vantage\\alphavantage.py\u001b[0m in \u001b[0;36m_format_wrapper\u001b[1;34m(self, *args, **kwargs)\u001b[0m\n\u001b[0;32m    217\u001b[0m         \u001b[1;32mdef\u001b[0m \u001b[0m_format_wrapper\u001b[0m\u001b[1;33m(\u001b[0m\u001b[0mself\u001b[0m\u001b[1;33m,\u001b[0m \u001b[1;33m*\u001b[0m\u001b[0margs\u001b[0m\u001b[1;33m,\u001b[0m \u001b[1;33m**\u001b[0m\u001b[0mkwargs\u001b[0m\u001b[1;33m)\u001b[0m\u001b[1;33m:\u001b[0m\u001b[1;33m\u001b[0m\u001b[1;33m\u001b[0m\u001b[0m\n\u001b[0;32m    218\u001b[0m             call_response, data_key, meta_data_key = func(\n\u001b[1;32m--> 219\u001b[1;33m                 self, *args, **kwargs)\n\u001b[0m\u001b[0;32m    220\u001b[0m             \u001b[1;32mif\u001b[0m \u001b[1;34m'json'\u001b[0m \u001b[1;32min\u001b[0m \u001b[0mself\u001b[0m\u001b[1;33m.\u001b[0m\u001b[0moutput_format\u001b[0m\u001b[1;33m.\u001b[0m\u001b[0mlower\u001b[0m\u001b[1;33m(\u001b[0m\u001b[1;33m)\u001b[0m \u001b[1;32mor\u001b[0m \u001b[1;34m'pandas'\u001b[0m\u001b[0;31m \u001b[0m\u001b[0;31m\\\u001b[0m\u001b[1;33m\u001b[0m\u001b[1;33m\u001b[0m\u001b[0m\n\u001b[0;32m    221\u001b[0m                     \u001b[1;32min\u001b[0m \u001b[0mself\u001b[0m\u001b[1;33m.\u001b[0m\u001b[0moutput_format\u001b[0m\u001b[1;33m.\u001b[0m\u001b[0mlower\u001b[0m\u001b[1;33m(\u001b[0m\u001b[1;33m)\u001b[0m\u001b[1;33m:\u001b[0m\u001b[1;33m\u001b[0m\u001b[1;33m\u001b[0m\u001b[0m\n",
      "\u001b[1;32m~\\AppData\\Roaming\\Python\\Python37\\site-packages\\alpha_vantage\\alphavantage.py\u001b[0m in \u001b[0;36m_call_wrapper\u001b[1;34m(self, *args, **kwargs)\u001b[0m\n\u001b[0;32m    158\u001b[0m             \u001b[1;32melse\u001b[0m\u001b[1;33m:\u001b[0m\u001b[1;33m\u001b[0m\u001b[1;33m\u001b[0m\u001b[0m\n\u001b[0;32m    159\u001b[0m                 \u001b[0murl\u001b[0m \u001b[1;33m=\u001b[0m \u001b[1;34m'{}{}'\u001b[0m\u001b[1;33m.\u001b[0m\u001b[0mformat\u001b[0m\u001b[1;33m(\u001b[0m\u001b[0murl\u001b[0m\u001b[1;33m,\u001b[0m \u001b[0mapikey_parameter\u001b[0m\u001b[1;33m)\u001b[0m\u001b[1;33m\u001b[0m\u001b[1;33m\u001b[0m\u001b[0m\n\u001b[1;32m--> 160\u001b[1;33m             \u001b[1;32mreturn\u001b[0m \u001b[0mself\u001b[0m\u001b[1;33m.\u001b[0m\u001b[0m_handle_api_call\u001b[0m\u001b[1;33m(\u001b[0m\u001b[0murl\u001b[0m\u001b[1;33m)\u001b[0m\u001b[1;33m,\u001b[0m \u001b[0mdata_key\u001b[0m\u001b[1;33m,\u001b[0m \u001b[0mmeta_data_key\u001b[0m\u001b[1;33m\u001b[0m\u001b[1;33m\u001b[0m\u001b[0m\n\u001b[0m\u001b[0;32m    161\u001b[0m         \u001b[1;32mreturn\u001b[0m \u001b[0m_call_wrapper\u001b[0m\u001b[1;33m\u001b[0m\u001b[1;33m\u001b[0m\u001b[0m\n\u001b[0;32m    162\u001b[0m \u001b[1;33m\u001b[0m\u001b[0m\n",
      "\u001b[1;32m~\\AppData\\Roaming\\Python\\Python37\\site-packages\\alpha_vantage\\alphavantage.py\u001b[0m in \u001b[0;36m_handle_api_call\u001b[1;34m(self, url)\u001b[0m\n\u001b[0;32m    349\u001b[0m             \u001b[0mof\u001b[0m \u001b[0mthe\u001b[0m \u001b[0mjson\u001b[0m \u001b[0mobject\u001b[0m\u001b[1;33m\u001b[0m\u001b[1;33m\u001b[0m\u001b[0m\n\u001b[0;32m    350\u001b[0m         \"\"\"\n\u001b[1;32m--> 351\u001b[1;33m         \u001b[0mresponse\u001b[0m \u001b[1;33m=\u001b[0m \u001b[0mrequests\u001b[0m\u001b[1;33m.\u001b[0m\u001b[0mget\u001b[0m\u001b[1;33m(\u001b[0m\u001b[0murl\u001b[0m\u001b[1;33m,\u001b[0m \u001b[0mproxies\u001b[0m\u001b[1;33m=\u001b[0m\u001b[0mself\u001b[0m\u001b[1;33m.\u001b[0m\u001b[0mproxy\u001b[0m\u001b[1;33m,\u001b[0m \u001b[0mheaders\u001b[0m\u001b[1;33m=\u001b[0m\u001b[0mself\u001b[0m\u001b[1;33m.\u001b[0m\u001b[0mheaders\u001b[0m\u001b[1;33m)\u001b[0m\u001b[1;33m\u001b[0m\u001b[1;33m\u001b[0m\u001b[0m\n\u001b[0m\u001b[0;32m    352\u001b[0m         \u001b[1;32mif\u001b[0m \u001b[1;34m'json'\u001b[0m \u001b[1;32min\u001b[0m \u001b[0mself\u001b[0m\u001b[1;33m.\u001b[0m\u001b[0moutput_format\u001b[0m\u001b[1;33m.\u001b[0m\u001b[0mlower\u001b[0m\u001b[1;33m(\u001b[0m\u001b[1;33m)\u001b[0m \u001b[1;32mor\u001b[0m \u001b[1;34m'pandas'\u001b[0m \u001b[1;32min\u001b[0m\u001b[0;31m \u001b[0m\u001b[0;31m\\\u001b[0m\u001b[1;33m\u001b[0m\u001b[1;33m\u001b[0m\u001b[0m\n\u001b[0;32m    353\u001b[0m                 \u001b[0mself\u001b[0m\u001b[1;33m.\u001b[0m\u001b[0moutput_format\u001b[0m\u001b[1;33m.\u001b[0m\u001b[0mlower\u001b[0m\u001b[1;33m(\u001b[0m\u001b[1;33m)\u001b[0m\u001b[1;33m:\u001b[0m\u001b[1;33m\u001b[0m\u001b[1;33m\u001b[0m\u001b[0m\n",
      "\u001b[1;32m~\\AppData\\Roaming\\Python\\Python37\\site-packages\\requests\\api.py\u001b[0m in \u001b[0;36mget\u001b[1;34m(url, params, **kwargs)\u001b[0m\n\u001b[0;32m     71\u001b[0m     \"\"\"\n\u001b[0;32m     72\u001b[0m \u001b[1;33m\u001b[0m\u001b[0m\n\u001b[1;32m---> 73\u001b[1;33m     \u001b[1;32mreturn\u001b[0m \u001b[0mrequest\u001b[0m\u001b[1;33m(\u001b[0m\u001b[1;34m\"get\"\u001b[0m\u001b[1;33m,\u001b[0m \u001b[0murl\u001b[0m\u001b[1;33m,\u001b[0m \u001b[0mparams\u001b[0m\u001b[1;33m=\u001b[0m\u001b[0mparams\u001b[0m\u001b[1;33m,\u001b[0m \u001b[1;33m**\u001b[0m\u001b[0mkwargs\u001b[0m\u001b[1;33m)\u001b[0m\u001b[1;33m\u001b[0m\u001b[1;33m\u001b[0m\u001b[0m\n\u001b[0m\u001b[0;32m     74\u001b[0m \u001b[1;33m\u001b[0m\u001b[0m\n\u001b[0;32m     75\u001b[0m \u001b[1;33m\u001b[0m\u001b[0m\n",
      "\u001b[1;32m~\\AppData\\Roaming\\Python\\Python37\\site-packages\\requests\\api.py\u001b[0m in \u001b[0;36mrequest\u001b[1;34m(method, url, **kwargs)\u001b[0m\n\u001b[0;32m     57\u001b[0m     \u001b[1;31m# cases, and look like a memory leak in others.\u001b[0m\u001b[1;33m\u001b[0m\u001b[1;33m\u001b[0m\u001b[1;33m\u001b[0m\u001b[0m\n\u001b[0;32m     58\u001b[0m     \u001b[1;32mwith\u001b[0m \u001b[0msessions\u001b[0m\u001b[1;33m.\u001b[0m\u001b[0mSession\u001b[0m\u001b[1;33m(\u001b[0m\u001b[1;33m)\u001b[0m \u001b[1;32mas\u001b[0m \u001b[0msession\u001b[0m\u001b[1;33m:\u001b[0m\u001b[1;33m\u001b[0m\u001b[1;33m\u001b[0m\u001b[0m\n\u001b[1;32m---> 59\u001b[1;33m         \u001b[1;32mreturn\u001b[0m \u001b[0msession\u001b[0m\u001b[1;33m.\u001b[0m\u001b[0mrequest\u001b[0m\u001b[1;33m(\u001b[0m\u001b[0mmethod\u001b[0m\u001b[1;33m=\u001b[0m\u001b[0mmethod\u001b[0m\u001b[1;33m,\u001b[0m \u001b[0murl\u001b[0m\u001b[1;33m=\u001b[0m\u001b[0murl\u001b[0m\u001b[1;33m,\u001b[0m \u001b[1;33m**\u001b[0m\u001b[0mkwargs\u001b[0m\u001b[1;33m)\u001b[0m\u001b[1;33m\u001b[0m\u001b[1;33m\u001b[0m\u001b[0m\n\u001b[0m\u001b[0;32m     60\u001b[0m \u001b[1;33m\u001b[0m\u001b[0m\n\u001b[0;32m     61\u001b[0m \u001b[1;33m\u001b[0m\u001b[0m\n",
      "\u001b[1;32m~\\AppData\\Roaming\\Python\\Python37\\site-packages\\requests\\sessions.py\u001b[0m in \u001b[0;36mrequest\u001b[1;34m(self, method, url, params, data, headers, cookies, files, auth, timeout, allow_redirects, proxies, hooks, stream, verify, cert, json)\u001b[0m\n\u001b[0;32m    585\u001b[0m         }\n\u001b[0;32m    586\u001b[0m         \u001b[0msend_kwargs\u001b[0m\u001b[1;33m.\u001b[0m\u001b[0mupdate\u001b[0m\u001b[1;33m(\u001b[0m\u001b[0msettings\u001b[0m\u001b[1;33m)\u001b[0m\u001b[1;33m\u001b[0m\u001b[1;33m\u001b[0m\u001b[0m\n\u001b[1;32m--> 587\u001b[1;33m         \u001b[0mresp\u001b[0m \u001b[1;33m=\u001b[0m \u001b[0mself\u001b[0m\u001b[1;33m.\u001b[0m\u001b[0msend\u001b[0m\u001b[1;33m(\u001b[0m\u001b[0mprep\u001b[0m\u001b[1;33m,\u001b[0m \u001b[1;33m**\u001b[0m\u001b[0msend_kwargs\u001b[0m\u001b[1;33m)\u001b[0m\u001b[1;33m\u001b[0m\u001b[1;33m\u001b[0m\u001b[0m\n\u001b[0m\u001b[0;32m    588\u001b[0m \u001b[1;33m\u001b[0m\u001b[0m\n\u001b[0;32m    589\u001b[0m         \u001b[1;32mreturn\u001b[0m \u001b[0mresp\u001b[0m\u001b[1;33m\u001b[0m\u001b[1;33m\u001b[0m\u001b[0m\n",
      "\u001b[1;32m~\\AppData\\Roaming\\Python\\Python37\\site-packages\\requests\\sessions.py\u001b[0m in \u001b[0;36msend\u001b[1;34m(self, request, **kwargs)\u001b[0m\n\u001b[0;32m    699\u001b[0m \u001b[1;33m\u001b[0m\u001b[0m\n\u001b[0;32m    700\u001b[0m         \u001b[1;31m# Send the request\u001b[0m\u001b[1;33m\u001b[0m\u001b[1;33m\u001b[0m\u001b[1;33m\u001b[0m\u001b[0m\n\u001b[1;32m--> 701\u001b[1;33m         \u001b[0mr\u001b[0m \u001b[1;33m=\u001b[0m \u001b[0madapter\u001b[0m\u001b[1;33m.\u001b[0m\u001b[0msend\u001b[0m\u001b[1;33m(\u001b[0m\u001b[0mrequest\u001b[0m\u001b[1;33m,\u001b[0m \u001b[1;33m**\u001b[0m\u001b[0mkwargs\u001b[0m\u001b[1;33m)\u001b[0m\u001b[1;33m\u001b[0m\u001b[1;33m\u001b[0m\u001b[0m\n\u001b[0m\u001b[0;32m    702\u001b[0m \u001b[1;33m\u001b[0m\u001b[0m\n\u001b[0;32m    703\u001b[0m         \u001b[1;31m# Total elapsed time of the request (approximately)\u001b[0m\u001b[1;33m\u001b[0m\u001b[1;33m\u001b[0m\u001b[1;33m\u001b[0m\u001b[0m\n",
      "\u001b[1;32m~\\AppData\\Roaming\\Python\\Python37\\site-packages\\requests\\adapters.py\u001b[0m in \u001b[0;36msend\u001b[1;34m(self, request, stream, timeout, verify, cert, proxies)\u001b[0m\n\u001b[0;32m    561\u001b[0m             \u001b[1;32mif\u001b[0m \u001b[0misinstance\u001b[0m\u001b[1;33m(\u001b[0m\u001b[0me\u001b[0m\u001b[1;33m.\u001b[0m\u001b[0mreason\u001b[0m\u001b[1;33m,\u001b[0m \u001b[0m_SSLError\u001b[0m\u001b[1;33m)\u001b[0m\u001b[1;33m:\u001b[0m\u001b[1;33m\u001b[0m\u001b[1;33m\u001b[0m\u001b[0m\n\u001b[0;32m    562\u001b[0m                 \u001b[1;31m# This branch is for urllib3 v1.22 and later.\u001b[0m\u001b[1;33m\u001b[0m\u001b[1;33m\u001b[0m\u001b[1;33m\u001b[0m\u001b[0m\n\u001b[1;32m--> 563\u001b[1;33m                 \u001b[1;32mraise\u001b[0m \u001b[0mSSLError\u001b[0m\u001b[1;33m(\u001b[0m\u001b[0me\u001b[0m\u001b[1;33m,\u001b[0m \u001b[0mrequest\u001b[0m\u001b[1;33m=\u001b[0m\u001b[0mrequest\u001b[0m\u001b[1;33m)\u001b[0m\u001b[1;33m\u001b[0m\u001b[1;33m\u001b[0m\u001b[0m\n\u001b[0m\u001b[0;32m    564\u001b[0m \u001b[1;33m\u001b[0m\u001b[0m\n\u001b[0;32m    565\u001b[0m             \u001b[1;32mraise\u001b[0m \u001b[0mConnectionError\u001b[0m\u001b[1;33m(\u001b[0m\u001b[0me\u001b[0m\u001b[1;33m,\u001b[0m \u001b[0mrequest\u001b[0m\u001b[1;33m=\u001b[0m\u001b[0mrequest\u001b[0m\u001b[1;33m)\u001b[0m\u001b[1;33m\u001b[0m\u001b[1;33m\u001b[0m\u001b[0m\n",
      "\u001b[1;31mSSLError\u001b[0m: HTTPSConnectionPool(host='www.alphavantage.co', port=443): Max retries exceeded with url: /query?function=SYMBOL_SEARCH&keywords=itau&apikey=35P04JH4ONHOFNYL&datatype=json (Caused by SSLError(SSLCertVerificationError(1, '[SSL: CERTIFICATE_VERIFY_FAILED] certificate verify failed: self signed certificate in certificate chain (_ssl.c:1056)')))"
     ]
    }
   ],
   "source": [
    "ts.get_symbol_search('itau')"
   ]
  },
  {
   "cell_type": "code",
   "execution_count": 28,
   "metadata": {},
   "outputs": [
    {
     "name": "stderr",
     "output_type": "stream",
     "text": [
      "C:\\Users\\a.bandeira.de.mello\\AppData\\Roaming\\Python\\Python37\\site-packages\\urllib3\\connectionpool.py:1004: InsecureRequestWarning: Unverified HTTPS request is being made to host 'www.alphavantage.co'. Adding certificate verification is strongly advised. See: https://urllib3.readthedocs.io/en/latest/advanced-usage.html#ssl-warnings\n",
      "  InsecureRequestWarning,\n"
     ]
    },
    {
     "name": "stdout",
     "output_type": "stream",
     "text": [
      "{'Information': 'Thank you for using Alpha Vantage! This is a premium endpoint. You may subscribe to any of the premium plans at https://www.alphavantage.co/premium/ to instantly unlock all premium endpoints'}\n"
     ]
    }
   ],
   "source": [
    "import requests\n",
    "\n",
    "# replace the \"demo\" apikey below with your own key from https://www.alphavantage.co/support/#api-key\n",
    "url = 'https://www.alphavantage.co/query?function=TIME_SERIES_DAILY&symbol=itau&apikey=' + API_KEY\n",
    "r = requests.get(url, verify=False)\n",
    "data = r.json()\n",
    "\n",
    "print(data)"
   ]
  },
  {
   "cell_type": "code",
   "execution_count": 29,
   "metadata": {},
   "outputs": [
    {
     "data": {
      "text/plain": [
       "{'Information': 'Thank you for using Alpha Vantage! This is a premium endpoint. You may subscribe to any of the premium plans at https://www.alphavantage.co/premium/ to instantly unlock all premium endpoints'}"
      ]
     },
     "execution_count": 29,
     "metadata": {},
     "output_type": "execute_result"
    }
   ],
   "source": [
    "data"
   ]
  },
  {
   "cell_type": "code",
   "execution_count": null,
   "metadata": {},
   "outputs": [],
   "source": []
  }
 ],
 "metadata": {
  "kernelspec": {
   "display_name": "Python 3",
   "language": "python",
   "name": "python3"
  },
  "language_info": {
   "codemirror_mode": {
    "name": "ipython",
    "version": 3
   },
   "file_extension": ".py",
   "mimetype": "text/x-python",
   "name": "python",
   "nbconvert_exporter": "python",
   "pygments_lexer": "ipython3",
   "version": "3.7.3"
  }
 },
 "nbformat": 4,
 "nbformat_minor": 2
}
